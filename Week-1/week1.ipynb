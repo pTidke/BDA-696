{
 "cells": [
  {
   "cell_type": "code",
   "execution_count": null,
   "metadata": {},
   "outputs": [],
   "source": [
    "# pip install pandas\n",
    "# pip install numpy==2.0.0"
   ]
  },
  {
   "cell_type": "code",
   "execution_count": 4,
   "metadata": {},
   "outputs": [],
   "source": [
    "import pandas as pd\n",
    "import numpy as np"
   ]
  },
  {
   "cell_type": "code",
   "execution_count": 5,
   "metadata": {},
   "outputs": [],
   "source": [
    "class count:\n",
    "    def __init__(self, start_int, end_int):\n",
    "        self.start_int = start_int\n",
    "        self.end_int = end_int\n",
    "    \n",
    "    def print_num(self, ):\n",
    "        for x in range(self.start_int, self.end_int):\n",
    "            print(x)\n",
    "    \n",
    "    def print_des(self, step = 0.05):\n",
    "        num_list = np.arange(self.start_int, self.end_int,\n",
    "                             step=step, dtype=np.float64)\n",
    "        print(num_list)"
   ]
  },
  {
   "cell_type": "code",
   "execution_count": 6,
   "metadata": {},
   "outputs": [
    {
     "name": "stdout",
     "output_type": "stream",
     "text": [
      "[1.   1.05 1.1  1.15 1.2  1.25 1.3  1.35 1.4  1.45 1.5  1.55 1.6  1.65\n",
      " 1.7  1.75 1.8  1.85 1.9  1.95 2.   2.05 2.1  2.15 2.2  2.25 2.3  2.35\n",
      " 2.4  2.45 2.5  2.55 2.6  2.65 2.7  2.75 2.8  2.85 2.9  2.95 3.   3.05\n",
      " 3.1  3.15 3.2  3.25 3.3  3.35 3.4  3.45 3.5  3.55 3.6  3.65 3.7  3.75\n",
      " 3.8  3.85 3.9  3.95 4.   4.05 4.1  4.15 4.2  4.25 4.3  4.35 4.4  4.45\n",
      " 4.5  4.55 4.6  4.65 4.7  4.75 4.8  4.85 4.9  4.95 5.   5.05 5.1  5.15\n",
      " 5.2  5.25 5.3  5.35 5.4  5.45 5.5  5.55 5.6  5.65 5.7  5.75 5.8  5.85\n",
      " 5.9  5.95 6.   6.05 6.1  6.15 6.2  6.25 6.3  6.35 6.4  6.45 6.5  6.55\n",
      " 6.6  6.65 6.7  6.75 6.8  6.85 6.9  6.95 7.   7.05 7.1  7.15 7.2  7.25\n",
      " 7.3  7.35 7.4  7.45 7.5  7.55 7.6  7.65 7.7  7.75 7.8  7.85 7.9  7.95\n",
      " 8.   8.05 8.1  8.15 8.2  8.25 8.3  8.35 8.4  8.45 8.5  8.55 8.6  8.65\n",
      " 8.7  8.75 8.8  8.85 8.9  8.95 9.   9.05 9.1  9.15 9.2  9.25 9.3  9.35\n",
      " 9.4  9.45 9.5  9.55 9.6  9.65 9.7  9.75 9.8  9.85 9.9  9.95]\n"
     ]
    }
   ],
   "source": [
    "c1 = count(start_int=1, end_int=10)\n",
    "# print(c1.start_int)\n",
    "# c1.print_num()\n",
    "c1.print_des()"
   ]
  }
 ],
 "metadata": {
  "kernelspec": {
   "display_name": "venv",
   "language": "python",
   "name": "python3"
  },
  "language_info": {
   "codemirror_mode": {
    "name": "ipython",
    "version": 3
   },
   "file_extension": ".py",
   "mimetype": "text/x-python",
   "name": "python",
   "nbconvert_exporter": "python",
   "pygments_lexer": "ipython3",
   "version": "3.12.6"
  }
 },
 "nbformat": 4,
 "nbformat_minor": 2
}
