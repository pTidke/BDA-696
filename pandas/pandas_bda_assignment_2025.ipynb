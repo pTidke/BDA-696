{
  "cells": [
    {
      "cell_type": "markdown",
      "metadata": {
        "id": "view-in-github",
        "colab_type": "text"
      },
      "source": [
        "<a href=\"https://colab.research.google.com/github/pTidke/BDA-696/blob/main/pandas/pandas_bda_assignment_2025.ipynb\" target=\"_parent\"><img src=\"https://colab.research.google.com/assets/colab-badge.svg\" alt=\"Open In Colab\"/></a>"
      ]
    },
    {
      "cell_type": "markdown",
      "metadata": {
        "id": "BS4g9smx978w"
      },
      "source": [
        "# Pandas assignment"
      ]
    },
    {
      "cell_type": "markdown",
      "metadata": {
        "id": "kN1NJnKj978x"
      },
      "source": [
        "The problems in this notebook are adapted from Brandon Rhodes's Pycon `pandas` tutorial.\n",
        "\n",
        "The first few problems are identical.  Others are complete fabrications.\n",
        "\n",
        "Problems that have an asterisk (`*`) are worth twice as  much.  They are more difficult.\n",
        "\n",
        "Each of part A and Part B is handed in  as a separate assignment.  Each part is worth 20 points.\n",
        "The point values for each question (out of a tital of 20) are as follows:\n",
        "\n",
        "$$\n",
        "\\begin{array}{ll}\n",
        "\\text{Unstarred} & 1.428 \\\\\n",
        " \\text{Starred} & 2.856\\\\\n",
        "\\end{array}\n",
        "$$"
      ]
    },
    {
      "cell_type": "markdown",
      "metadata": {
        "id": "cSToECOC978y"
      },
      "source": [
        "## Loading the data"
      ]
    },
    {
      "cell_type": "markdown",
      "metadata": {
        "id": "fB8HIYeD978y"
      },
      "source": [
        "This notebook loads two datasets `titles` and ` cast`.  Both are are loaded frim the course website and contain extracts of the IMDB movie data. The second is a fragment of a much larger DataFrame.  \n",
        "\n",
        "Everything\n",
        "you need to complete this assignment is included in the **fragment loaded in this section**\n",
        "in the cells below.\n",
        "\n",
        "For those who want to have the entire IMDB-derived dataset, here are some pointers.\n",
        "\n",
        "Loading the entire IMDB data set used for these tutorial exercises is best done by\n",
        "visiting [Brandon Rhodes' github repo](https://github.com/brandon-rhodes/pycon-pandas-tutorial)\n",
        "and following the instructions.  You can either download a big zip file or, if you have `git` (the main\n",
        "github API function) installed on your machine, do a `git clone` command.\n",
        "In addition to that,\n",
        "you will need to download 4 compressed files by ftp that Rhodes\n",
        "provides links to.  You can then run code\n",
        "from Rhodes' cloned repo to create the non-truncated version CSV files used in these exercises.\n",
        "If you do that, you may use the complete dataset to complete these exercises.  Some but not\n",
        "all of your answers will be dufferent.\n",
        "\n",
        "The statistics\n",
        "in the Part B answers will not be correct until you load the complete dataset.  But\n",
        "you can complete the assignment on the fragment, since I will be evaluating your code,\n",
        "not the accuracy of your statistics."
      ]
    },
    {
      "cell_type": "markdown",
      "metadata": {
        "id": "mNasaBFB978y"
      },
      "source": [
        "#### Context Cell (Parameter-setting and Notebook-wide imports)"
      ]
    },
    {
      "cell_type": "code",
      "execution_count": 1,
      "metadata": {
        "id": "EsLVEf3n978z"
      },
      "outputs": [],
      "source": [
        "# The Python modules you need for this assignment.\n",
        "import pandas as pd\n",
        "import os.path\n",
        "import urllib.request\n",
        "import urllib.error\n",
        "from matplotlib import pyplot as plt\n",
        "\n",
        "\n",
        "pd.options.plotting.backend = 'matplotlib'\n",
        "\n",
        "\n",
        "# Switch to True if loading the data below yields a 404 Not Found Error\n",
        "#data_load_has_failed = False\n",
        "\n",
        "github_url ='https://raw.githubusercontent.com/gawron/python-for-social-science/master/'\n",
        "data_path = 'pandas/tutorial/pycon-pandas-tutorial-master/truncated_data/'\n",
        "titles_file = 'titles.csv'\n",
        "cast_file = 'cast.csv'\n",
        "truncated_cast_file = 'truncated_cast.csv'\n",
        "url_dir = github_url + data_path\n",
        "#url_dir = 'https://gawron.sdsu.edu/python_for_ss/course_core/data/'"
      ]
    },
    {
      "cell_type": "code",
      "execution_count": 2,
      "metadata": {
        "colab": {
          "base_uri": "https://localhost:8080/",
          "height": 35
        },
        "id": "DQA0CBw8978z",
        "outputId": "77f7ba07-1168-4f8e-d5d9-d4c59d81d670"
      },
      "outputs": [
        {
          "output_type": "execute_result",
          "data": {
            "text/plain": [
              "'https://raw.githubusercontent.com/gawron/python-for-social-science/master/pandas/tutorial/pycon-pandas-tutorial-master/truncated_data/'"
            ],
            "application/vnd.google.colaboratory.intrinsic+json": {
              "type": "string"
            }
          },
          "metadata": {},
          "execution_count": 2
        }
      ],
      "source": [
        "# Data is on github.  Must be connected to the internet to get the data.\n",
        "url_dir"
      ]
    },
    {
      "cell_type": "markdown",
      "metadata": {
        "id": "2puXUNp99780"
      },
      "source": [
        "The next cell adds styles to the notebook. Helps make the assignment questions easier to find.\n",
        "\n",
        "Please execute:"
      ]
    },
    {
      "cell_type": "code",
      "execution_count": 3,
      "metadata": {
        "colab": {
          "base_uri": "https://localhost:8080/",
          "height": 17
        },
        "id": "L5eotL2p9780",
        "outputId": "0034b336-3371-4962-ba56-6bd5c2e644d0"
      },
      "outputs": [
        {
          "output_type": "execute_result",
          "data": {
            "text/plain": [
              "<IPython.core.display.HTML object>"
            ],
            "text/html": [
              "<style>\n",
              "h3 {\n",
              "    color: white;\n",
              "    background-color: black;\n",
              "    padding: 0.5em;\n",
              "}\n",
              "body {\n",
              "    margin: 0;\n",
              "    font-family: Helvetica;\n",
              "}\n",
              "table.dataframe {\n",
              "    border-collapse: collapse;\n",
              "    border: none;\n",
              "}\n",
              "table.dataframe tr {\n",
              "    border: none;\n",
              "}\n",
              "table.dataframe td, table.dataframe th {\n",
              "    margin: 0;\n",
              "    border: 1px solid white;\n",
              "    padding-left: 0.25em;\n",
              "    padding-right: 0.25em;\n",
              "}\n",
              "table.dataframe th:not(:empty) {\n",
              "    background-color: #fec;\n",
              "    text-align: left;\n",
              "    font-weight: normal;\n",
              "}\n",
              "table.dataframe tr:nth-child(2) th:empty {\n",
              "    border-left: none;\n",
              "    border-right: 1px dashed #888;\n",
              "}\n",
              "table.dataframe td {\n",
              "    border: 2px solid #ccf;\n",
              "    background-color: #f4f4ff;\n",
              "}\n",
              "</style>"
            ]
          },
          "metadata": {},
          "execution_count": 3
        }
      ],
      "source": [
        "from IPython.display import HTML\n",
        "import urllib\n",
        "import os.path\n",
        "\n",
        "style_dir = 'https://gawron.sdsu.edu/python_for_ss/course_core/data/'\n",
        "target_url1 = os.path.join(style_dir,'style-notebook.css')\n",
        "target_url2 = os.path.join(style_dir,'style-table.css')\n",
        "\n",
        "# There are issues with doing it this way on Windows\n",
        "#target_url1 = style_dir + '/style-notebook.css'\n",
        "#target_url2 = style_dir + '/style-table.css'\n",
        "\n",
        "with urllib.request.urlopen(target_url1) as fh1:\n",
        "    css1 = fh1.read().decode('utf8')\n",
        "with urllib.request.urlopen(target_url2) as fh2:\n",
        "    css2 = fh2.read().decode('utf8')\n",
        "css = css1 + css2\n",
        "# This attaches the style sheet to the current notebook\n",
        "HTML(f'<style>\\n{css}</style>')\n",
        "# print(\"Hi\")\n",
        "# Note that the HTML function-call above returns an uprintable html-object.\n",
        "# It must be the last expression executed in the cell in an unembedded block of code.\n",
        "# It does not have the intended effect on the styling of  the notebook\n",
        "# if the print statement above is un-(commented out)\n",
        "# or if it is embedded in an if-statement as below.  It must be the value\n",
        "# returned by the cell (what is printed out, if printable, )\n",
        "# if True:\n",
        "#    HTML(f'<style>\\n{css}</style>')"
      ]
    },
    {
      "cell_type": "markdown",
      "metadata": {
        "id": "2TOPqa4Y9780"
      },
      "source": [
        "The next cell loads the `titles` DataFrame, the first of two used in this assignment.  There are only\n",
        "two columns, `'title'`  and `'year'`."
      ]
    },
    {
      "cell_type": "code",
      "execution_count": 4,
      "metadata": {
        "colab": {
          "base_uri": "https://localhost:8080/",
          "height": 206
        },
        "id": "2LntcQal9780",
        "outputId": "40cf6f67-f949-42e8-cef1-85f19dd7c0e5"
      },
      "outputs": [
        {
          "output_type": "execute_result",
          "data": {
            "text/plain": [
              "                           title  year\n",
              "0                 The Patriarchs  2009\n",
              "1            Angels in the Attic  1998\n",
              "2                    The Rapture  1991\n",
              "3  Star na si Van Damme Stallone  2016\n",
              "4                     Sweet Talk  2004"
            ],
            "text/html": [
              "\n",
              "  <div id=\"df-0508a4b5-6ed3-48ee-a0a2-94aced162b38\" class=\"colab-df-container\">\n",
              "    <div>\n",
              "<style scoped>\n",
              "    .dataframe tbody tr th:only-of-type {\n",
              "        vertical-align: middle;\n",
              "    }\n",
              "\n",
              "    .dataframe tbody tr th {\n",
              "        vertical-align: top;\n",
              "    }\n",
              "\n",
              "    .dataframe thead th {\n",
              "        text-align: right;\n",
              "    }\n",
              "</style>\n",
              "<table border=\"1\" class=\"dataframe\">\n",
              "  <thead>\n",
              "    <tr style=\"text-align: right;\">\n",
              "      <th></th>\n",
              "      <th>title</th>\n",
              "      <th>year</th>\n",
              "    </tr>\n",
              "  </thead>\n",
              "  <tbody>\n",
              "    <tr>\n",
              "      <th>0</th>\n",
              "      <td>The Patriarchs</td>\n",
              "      <td>2009</td>\n",
              "    </tr>\n",
              "    <tr>\n",
              "      <th>1</th>\n",
              "      <td>Angels in the Attic</td>\n",
              "      <td>1998</td>\n",
              "    </tr>\n",
              "    <tr>\n",
              "      <th>2</th>\n",
              "      <td>The Rapture</td>\n",
              "      <td>1991</td>\n",
              "    </tr>\n",
              "    <tr>\n",
              "      <th>3</th>\n",
              "      <td>Star na si Van Damme Stallone</td>\n",
              "      <td>2016</td>\n",
              "    </tr>\n",
              "    <tr>\n",
              "      <th>4</th>\n",
              "      <td>Sweet Talk</td>\n",
              "      <td>2004</td>\n",
              "    </tr>\n",
              "  </tbody>\n",
              "</table>\n",
              "</div>\n",
              "    <div class=\"colab-df-buttons\">\n",
              "\n",
              "  <div class=\"colab-df-container\">\n",
              "    <button class=\"colab-df-convert\" onclick=\"convertToInteractive('df-0508a4b5-6ed3-48ee-a0a2-94aced162b38')\"\n",
              "            title=\"Convert this dataframe to an interactive table.\"\n",
              "            style=\"display:none;\">\n",
              "\n",
              "  <svg xmlns=\"http://www.w3.org/2000/svg\" height=\"24px\" viewBox=\"0 -960 960 960\">\n",
              "    <path d=\"M120-120v-720h720v720H120Zm60-500h600v-160H180v160Zm220 220h160v-160H400v160Zm0 220h160v-160H400v160ZM180-400h160v-160H180v160Zm440 0h160v-160H620v160ZM180-180h160v-160H180v160Zm440 0h160v-160H620v160Z\"/>\n",
              "  </svg>\n",
              "    </button>\n",
              "\n",
              "  <style>\n",
              "    .colab-df-container {\n",
              "      display:flex;\n",
              "      gap: 12px;\n",
              "    }\n",
              "\n",
              "    .colab-df-convert {\n",
              "      background-color: #E8F0FE;\n",
              "      border: none;\n",
              "      border-radius: 50%;\n",
              "      cursor: pointer;\n",
              "      display: none;\n",
              "      fill: #1967D2;\n",
              "      height: 32px;\n",
              "      padding: 0 0 0 0;\n",
              "      width: 32px;\n",
              "    }\n",
              "\n",
              "    .colab-df-convert:hover {\n",
              "      background-color: #E2EBFA;\n",
              "      box-shadow: 0px 1px 2px rgba(60, 64, 67, 0.3), 0px 1px 3px 1px rgba(60, 64, 67, 0.15);\n",
              "      fill: #174EA6;\n",
              "    }\n",
              "\n",
              "    .colab-df-buttons div {\n",
              "      margin-bottom: 4px;\n",
              "    }\n",
              "\n",
              "    [theme=dark] .colab-df-convert {\n",
              "      background-color: #3B4455;\n",
              "      fill: #D2E3FC;\n",
              "    }\n",
              "\n",
              "    [theme=dark] .colab-df-convert:hover {\n",
              "      background-color: #434B5C;\n",
              "      box-shadow: 0px 1px 3px 1px rgba(0, 0, 0, 0.15);\n",
              "      filter: drop-shadow(0px 1px 2px rgba(0, 0, 0, 0.3));\n",
              "      fill: #FFFFFF;\n",
              "    }\n",
              "  </style>\n",
              "\n",
              "    <script>\n",
              "      const buttonEl =\n",
              "        document.querySelector('#df-0508a4b5-6ed3-48ee-a0a2-94aced162b38 button.colab-df-convert');\n",
              "      buttonEl.style.display =\n",
              "        google.colab.kernel.accessAllowed ? 'block' : 'none';\n",
              "\n",
              "      async function convertToInteractive(key) {\n",
              "        const element = document.querySelector('#df-0508a4b5-6ed3-48ee-a0a2-94aced162b38');\n",
              "        const dataTable =\n",
              "          await google.colab.kernel.invokeFunction('convertToInteractive',\n",
              "                                                    [key], {});\n",
              "        if (!dataTable) return;\n",
              "\n",
              "        const docLinkHtml = 'Like what you see? Visit the ' +\n",
              "          '<a target=\"_blank\" href=https://colab.research.google.com/notebooks/data_table.ipynb>data table notebook</a>'\n",
              "          + ' to learn more about interactive tables.';\n",
              "        element.innerHTML = '';\n",
              "        dataTable['output_type'] = 'display_data';\n",
              "        await google.colab.output.renderOutput(dataTable, element);\n",
              "        const docLink = document.createElement('div');\n",
              "        docLink.innerHTML = docLinkHtml;\n",
              "        element.appendChild(docLink);\n",
              "      }\n",
              "    </script>\n",
              "  </div>\n",
              "\n",
              "\n",
              "<div id=\"df-118541ed-383a-4636-946e-e02a123a5fcf\">\n",
              "  <button class=\"colab-df-quickchart\" onclick=\"quickchart('df-118541ed-383a-4636-946e-e02a123a5fcf')\"\n",
              "            title=\"Suggest charts\"\n",
              "            style=\"display:none;\">\n",
              "\n",
              "<svg xmlns=\"http://www.w3.org/2000/svg\" height=\"24px\"viewBox=\"0 0 24 24\"\n",
              "     width=\"24px\">\n",
              "    <g>\n",
              "        <path d=\"M19 3H5c-1.1 0-2 .9-2 2v14c0 1.1.9 2 2 2h14c1.1 0 2-.9 2-2V5c0-1.1-.9-2-2-2zM9 17H7v-7h2v7zm4 0h-2V7h2v10zm4 0h-2v-4h2v4z\"/>\n",
              "    </g>\n",
              "</svg>\n",
              "  </button>\n",
              "\n",
              "<style>\n",
              "  .colab-df-quickchart {\n",
              "      --bg-color: #E8F0FE;\n",
              "      --fill-color: #1967D2;\n",
              "      --hover-bg-color: #E2EBFA;\n",
              "      --hover-fill-color: #174EA6;\n",
              "      --disabled-fill-color: #AAA;\n",
              "      --disabled-bg-color: #DDD;\n",
              "  }\n",
              "\n",
              "  [theme=dark] .colab-df-quickchart {\n",
              "      --bg-color: #3B4455;\n",
              "      --fill-color: #D2E3FC;\n",
              "      --hover-bg-color: #434B5C;\n",
              "      --hover-fill-color: #FFFFFF;\n",
              "      --disabled-bg-color: #3B4455;\n",
              "      --disabled-fill-color: #666;\n",
              "  }\n",
              "\n",
              "  .colab-df-quickchart {\n",
              "    background-color: var(--bg-color);\n",
              "    border: none;\n",
              "    border-radius: 50%;\n",
              "    cursor: pointer;\n",
              "    display: none;\n",
              "    fill: var(--fill-color);\n",
              "    height: 32px;\n",
              "    padding: 0;\n",
              "    width: 32px;\n",
              "  }\n",
              "\n",
              "  .colab-df-quickchart:hover {\n",
              "    background-color: var(--hover-bg-color);\n",
              "    box-shadow: 0 1px 2px rgba(60, 64, 67, 0.3), 0 1px 3px 1px rgba(60, 64, 67, 0.15);\n",
              "    fill: var(--button-hover-fill-color);\n",
              "  }\n",
              "\n",
              "  .colab-df-quickchart-complete:disabled,\n",
              "  .colab-df-quickchart-complete:disabled:hover {\n",
              "    background-color: var(--disabled-bg-color);\n",
              "    fill: var(--disabled-fill-color);\n",
              "    box-shadow: none;\n",
              "  }\n",
              "\n",
              "  .colab-df-spinner {\n",
              "    border: 2px solid var(--fill-color);\n",
              "    border-color: transparent;\n",
              "    border-bottom-color: var(--fill-color);\n",
              "    animation:\n",
              "      spin 1s steps(1) infinite;\n",
              "  }\n",
              "\n",
              "  @keyframes spin {\n",
              "    0% {\n",
              "      border-color: transparent;\n",
              "      border-bottom-color: var(--fill-color);\n",
              "      border-left-color: var(--fill-color);\n",
              "    }\n",
              "    20% {\n",
              "      border-color: transparent;\n",
              "      border-left-color: var(--fill-color);\n",
              "      border-top-color: var(--fill-color);\n",
              "    }\n",
              "    30% {\n",
              "      border-color: transparent;\n",
              "      border-left-color: var(--fill-color);\n",
              "      border-top-color: var(--fill-color);\n",
              "      border-right-color: var(--fill-color);\n",
              "    }\n",
              "    40% {\n",
              "      border-color: transparent;\n",
              "      border-right-color: var(--fill-color);\n",
              "      border-top-color: var(--fill-color);\n",
              "    }\n",
              "    60% {\n",
              "      border-color: transparent;\n",
              "      border-right-color: var(--fill-color);\n",
              "    }\n",
              "    80% {\n",
              "      border-color: transparent;\n",
              "      border-right-color: var(--fill-color);\n",
              "      border-bottom-color: var(--fill-color);\n",
              "    }\n",
              "    90% {\n",
              "      border-color: transparent;\n",
              "      border-bottom-color: var(--fill-color);\n",
              "    }\n",
              "  }\n",
              "</style>\n",
              "\n",
              "  <script>\n",
              "    async function quickchart(key) {\n",
              "      const quickchartButtonEl =\n",
              "        document.querySelector('#' + key + ' button');\n",
              "      quickchartButtonEl.disabled = true;  // To prevent multiple clicks.\n",
              "      quickchartButtonEl.classList.add('colab-df-spinner');\n",
              "      try {\n",
              "        const charts = await google.colab.kernel.invokeFunction(\n",
              "            'suggestCharts', [key], {});\n",
              "      } catch (error) {\n",
              "        console.error('Error during call to suggestCharts:', error);\n",
              "      }\n",
              "      quickchartButtonEl.classList.remove('colab-df-spinner');\n",
              "      quickchartButtonEl.classList.add('colab-df-quickchart-complete');\n",
              "    }\n",
              "    (() => {\n",
              "      let quickchartButtonEl =\n",
              "        document.querySelector('#df-118541ed-383a-4636-946e-e02a123a5fcf button');\n",
              "      quickchartButtonEl.style.display =\n",
              "        google.colab.kernel.accessAllowed ? 'block' : 'none';\n",
              "    })();\n",
              "  </script>\n",
              "</div>\n",
              "\n",
              "    </div>\n",
              "  </div>\n"
            ],
            "application/vnd.google.colaboratory.intrinsic+json": {
              "type": "dataframe",
              "variable_name": "titles"
            }
          },
          "metadata": {},
          "execution_count": 4
        }
      ],
      "source": [
        "titles = pd.read_csv(url_dir + titles_file)\n",
        "titles.head()"
      ]
    },
    {
      "cell_type": "markdown",
      "metadata": {
        "id": "spywwGpa9781"
      },
      "source": [
        "This is a simple `DataFrame` with two columns, containing the title and year of a film.\n",
        "\n",
        "If a film is remade and given the same title, the title shows up twice:"
      ]
    },
    {
      "cell_type": "code",
      "execution_count": 5,
      "metadata": {
        "colab": {
          "base_uri": "https://localhost:8080/",
          "height": 112
        },
        "id": "3vLvSsOw9781",
        "outputId": "6967be3a-4109-4bfb-fbcf-2daace807b2a"
      },
      "outputs": [
        {
          "output_type": "execute_result",
          "data": {
            "text/plain": [
              "                              title  year\n",
              "91875   Around the World in 80 Days  2004\n",
              "121800  Around the World in 80 Days  1956"
            ],
            "text/html": [
              "\n",
              "  <div id=\"df-df08fa1a-d07c-4074-8558-9449307c9731\" class=\"colab-df-container\">\n",
              "    <div>\n",
              "<style scoped>\n",
              "    .dataframe tbody tr th:only-of-type {\n",
              "        vertical-align: middle;\n",
              "    }\n",
              "\n",
              "    .dataframe tbody tr th {\n",
              "        vertical-align: top;\n",
              "    }\n",
              "\n",
              "    .dataframe thead th {\n",
              "        text-align: right;\n",
              "    }\n",
              "</style>\n",
              "<table border=\"1\" class=\"dataframe\">\n",
              "  <thead>\n",
              "    <tr style=\"text-align: right;\">\n",
              "      <th></th>\n",
              "      <th>title</th>\n",
              "      <th>year</th>\n",
              "    </tr>\n",
              "  </thead>\n",
              "  <tbody>\n",
              "    <tr>\n",
              "      <th>91875</th>\n",
              "      <td>Around the World in 80 Days</td>\n",
              "      <td>2004</td>\n",
              "    </tr>\n",
              "    <tr>\n",
              "      <th>121800</th>\n",
              "      <td>Around the World in 80 Days</td>\n",
              "      <td>1956</td>\n",
              "    </tr>\n",
              "  </tbody>\n",
              "</table>\n",
              "</div>\n",
              "    <div class=\"colab-df-buttons\">\n",
              "\n",
              "  <div class=\"colab-df-container\">\n",
              "    <button class=\"colab-df-convert\" onclick=\"convertToInteractive('df-df08fa1a-d07c-4074-8558-9449307c9731')\"\n",
              "            title=\"Convert this dataframe to an interactive table.\"\n",
              "            style=\"display:none;\">\n",
              "\n",
              "  <svg xmlns=\"http://www.w3.org/2000/svg\" height=\"24px\" viewBox=\"0 -960 960 960\">\n",
              "    <path d=\"M120-120v-720h720v720H120Zm60-500h600v-160H180v160Zm220 220h160v-160H400v160Zm0 220h160v-160H400v160ZM180-400h160v-160H180v160Zm440 0h160v-160H620v160ZM180-180h160v-160H180v160Zm440 0h160v-160H620v160Z\"/>\n",
              "  </svg>\n",
              "    </button>\n",
              "\n",
              "  <style>\n",
              "    .colab-df-container {\n",
              "      display:flex;\n",
              "      gap: 12px;\n",
              "    }\n",
              "\n",
              "    .colab-df-convert {\n",
              "      background-color: #E8F0FE;\n",
              "      border: none;\n",
              "      border-radius: 50%;\n",
              "      cursor: pointer;\n",
              "      display: none;\n",
              "      fill: #1967D2;\n",
              "      height: 32px;\n",
              "      padding: 0 0 0 0;\n",
              "      width: 32px;\n",
              "    }\n",
              "\n",
              "    .colab-df-convert:hover {\n",
              "      background-color: #E2EBFA;\n",
              "      box-shadow: 0px 1px 2px rgba(60, 64, 67, 0.3), 0px 1px 3px 1px rgba(60, 64, 67, 0.15);\n",
              "      fill: #174EA6;\n",
              "    }\n",
              "\n",
              "    .colab-df-buttons div {\n",
              "      margin-bottom: 4px;\n",
              "    }\n",
              "\n",
              "    [theme=dark] .colab-df-convert {\n",
              "      background-color: #3B4455;\n",
              "      fill: #D2E3FC;\n",
              "    }\n",
              "\n",
              "    [theme=dark] .colab-df-convert:hover {\n",
              "      background-color: #434B5C;\n",
              "      box-shadow: 0px 1px 3px 1px rgba(0, 0, 0, 0.15);\n",
              "      filter: drop-shadow(0px 1px 2px rgba(0, 0, 0, 0.3));\n",
              "      fill: #FFFFFF;\n",
              "    }\n",
              "  </style>\n",
              "\n",
              "    <script>\n",
              "      const buttonEl =\n",
              "        document.querySelector('#df-df08fa1a-d07c-4074-8558-9449307c9731 button.colab-df-convert');\n",
              "      buttonEl.style.display =\n",
              "        google.colab.kernel.accessAllowed ? 'block' : 'none';\n",
              "\n",
              "      async function convertToInteractive(key) {\n",
              "        const element = document.querySelector('#df-df08fa1a-d07c-4074-8558-9449307c9731');\n",
              "        const dataTable =\n",
              "          await google.colab.kernel.invokeFunction('convertToInteractive',\n",
              "                                                    [key], {});\n",
              "        if (!dataTable) return;\n",
              "\n",
              "        const docLinkHtml = 'Like what you see? Visit the ' +\n",
              "          '<a target=\"_blank\" href=https://colab.research.google.com/notebooks/data_table.ipynb>data table notebook</a>'\n",
              "          + ' to learn more about interactive tables.';\n",
              "        element.innerHTML = '';\n",
              "        dataTable['output_type'] = 'display_data';\n",
              "        await google.colab.output.renderOutput(dataTable, element);\n",
              "        const docLink = document.createElement('div');\n",
              "        docLink.innerHTML = docLinkHtml;\n",
              "        element.appendChild(docLink);\n",
              "      }\n",
              "    </script>\n",
              "  </div>\n",
              "\n",
              "\n",
              "<div id=\"df-a5323470-3e54-4ba2-86ad-161fe44143de\">\n",
              "  <button class=\"colab-df-quickchart\" onclick=\"quickchart('df-a5323470-3e54-4ba2-86ad-161fe44143de')\"\n",
              "            title=\"Suggest charts\"\n",
              "            style=\"display:none;\">\n",
              "\n",
              "<svg xmlns=\"http://www.w3.org/2000/svg\" height=\"24px\"viewBox=\"0 0 24 24\"\n",
              "     width=\"24px\">\n",
              "    <g>\n",
              "        <path d=\"M19 3H5c-1.1 0-2 .9-2 2v14c0 1.1.9 2 2 2h14c1.1 0 2-.9 2-2V5c0-1.1-.9-2-2-2zM9 17H7v-7h2v7zm4 0h-2V7h2v10zm4 0h-2v-4h2v4z\"/>\n",
              "    </g>\n",
              "</svg>\n",
              "  </button>\n",
              "\n",
              "<style>\n",
              "  .colab-df-quickchart {\n",
              "      --bg-color: #E8F0FE;\n",
              "      --fill-color: #1967D2;\n",
              "      --hover-bg-color: #E2EBFA;\n",
              "      --hover-fill-color: #174EA6;\n",
              "      --disabled-fill-color: #AAA;\n",
              "      --disabled-bg-color: #DDD;\n",
              "  }\n",
              "\n",
              "  [theme=dark] .colab-df-quickchart {\n",
              "      --bg-color: #3B4455;\n",
              "      --fill-color: #D2E3FC;\n",
              "      --hover-bg-color: #434B5C;\n",
              "      --hover-fill-color: #FFFFFF;\n",
              "      --disabled-bg-color: #3B4455;\n",
              "      --disabled-fill-color: #666;\n",
              "  }\n",
              "\n",
              "  .colab-df-quickchart {\n",
              "    background-color: var(--bg-color);\n",
              "    border: none;\n",
              "    border-radius: 50%;\n",
              "    cursor: pointer;\n",
              "    display: none;\n",
              "    fill: var(--fill-color);\n",
              "    height: 32px;\n",
              "    padding: 0;\n",
              "    width: 32px;\n",
              "  }\n",
              "\n",
              "  .colab-df-quickchart:hover {\n",
              "    background-color: var(--hover-bg-color);\n",
              "    box-shadow: 0 1px 2px rgba(60, 64, 67, 0.3), 0 1px 3px 1px rgba(60, 64, 67, 0.15);\n",
              "    fill: var(--button-hover-fill-color);\n",
              "  }\n",
              "\n",
              "  .colab-df-quickchart-complete:disabled,\n",
              "  .colab-df-quickchart-complete:disabled:hover {\n",
              "    background-color: var(--disabled-bg-color);\n",
              "    fill: var(--disabled-fill-color);\n",
              "    box-shadow: none;\n",
              "  }\n",
              "\n",
              "  .colab-df-spinner {\n",
              "    border: 2px solid var(--fill-color);\n",
              "    border-color: transparent;\n",
              "    border-bottom-color: var(--fill-color);\n",
              "    animation:\n",
              "      spin 1s steps(1) infinite;\n",
              "  }\n",
              "\n",
              "  @keyframes spin {\n",
              "    0% {\n",
              "      border-color: transparent;\n",
              "      border-bottom-color: var(--fill-color);\n",
              "      border-left-color: var(--fill-color);\n",
              "    }\n",
              "    20% {\n",
              "      border-color: transparent;\n",
              "      border-left-color: var(--fill-color);\n",
              "      border-top-color: var(--fill-color);\n",
              "    }\n",
              "    30% {\n",
              "      border-color: transparent;\n",
              "      border-left-color: var(--fill-color);\n",
              "      border-top-color: var(--fill-color);\n",
              "      border-right-color: var(--fill-color);\n",
              "    }\n",
              "    40% {\n",
              "      border-color: transparent;\n",
              "      border-right-color: var(--fill-color);\n",
              "      border-top-color: var(--fill-color);\n",
              "    }\n",
              "    60% {\n",
              "      border-color: transparent;\n",
              "      border-right-color: var(--fill-color);\n",
              "    }\n",
              "    80% {\n",
              "      border-color: transparent;\n",
              "      border-right-color: var(--fill-color);\n",
              "      border-bottom-color: var(--fill-color);\n",
              "    }\n",
              "    90% {\n",
              "      border-color: transparent;\n",
              "      border-bottom-color: var(--fill-color);\n",
              "    }\n",
              "  }\n",
              "</style>\n",
              "\n",
              "  <script>\n",
              "    async function quickchart(key) {\n",
              "      const quickchartButtonEl =\n",
              "        document.querySelector('#' + key + ' button');\n",
              "      quickchartButtonEl.disabled = true;  // To prevent multiple clicks.\n",
              "      quickchartButtonEl.classList.add('colab-df-spinner');\n",
              "      try {\n",
              "        const charts = await google.colab.kernel.invokeFunction(\n",
              "            'suggestCharts', [key], {});\n",
              "      } catch (error) {\n",
              "        console.error('Error during call to suggestCharts:', error);\n",
              "      }\n",
              "      quickchartButtonEl.classList.remove('colab-df-spinner');\n",
              "      quickchartButtonEl.classList.add('colab-df-quickchart-complete');\n",
              "    }\n",
              "    (() => {\n",
              "      let quickchartButtonEl =\n",
              "        document.querySelector('#df-a5323470-3e54-4ba2-86ad-161fe44143de button');\n",
              "      quickchartButtonEl.style.display =\n",
              "        google.colab.kernel.accessAllowed ? 'block' : 'none';\n",
              "    })();\n",
              "  </script>\n",
              "</div>\n",
              "\n",
              "    </div>\n",
              "  </div>\n"
            ],
            "application/vnd.google.colaboratory.intrinsic+json": {
              "type": "dataframe",
              "summary": "{\n  \"name\": \"titles[titles['title']  == 'Around the World in 80 Days']\",\n  \"rows\": 2,\n  \"fields\": [\n    {\n      \"column\": \"title\",\n      \"properties\": {\n        \"dtype\": \"string\",\n        \"num_unique_values\": 1,\n        \"samples\": [\n          \"Around the World in 80 Days\"\n        ],\n        \"semantic_type\": \"\",\n        \"description\": \"\"\n      }\n    },\n    {\n      \"column\": \"year\",\n      \"properties\": {\n        \"dtype\": \"number\",\n        \"std\": 33,\n        \"min\": 1956,\n        \"max\": 2004,\n        \"num_unique_values\": 2,\n        \"samples\": [\n          1956\n        ],\n        \"semantic_type\": \"\",\n        \"description\": \"\"\n      }\n    }\n  ]\n}"
            }
          },
          "metadata": {},
          "execution_count": 5
        }
      ],
      "source": [
        "titles[titles['title']  == 'Around the World in 80 Days']"
      ]
    },
    {
      "cell_type": "code",
      "execution_count": 6,
      "metadata": {
        "colab": {
          "base_uri": "https://localhost:8080/"
        },
        "id": "8rIpJPX99781",
        "outputId": "53c4cda8-0e87-4e91-fa2f-ee7bbce63cc8"
      },
      "outputs": [
        {
          "output_type": "execute_result",
          "data": {
            "text/plain": [
              "226013"
            ]
          },
          "metadata": {},
          "execution_count": 6
        }
      ],
      "source": [
        "len(titles)"
      ]
    },
    {
      "cell_type": "markdown",
      "metadata": {
        "id": "2VaupZRC9781"
      },
      "source": [
        "The next cell loads the `cast` DataFrame, the second of two used in this assignment.  This is\n",
        "large and will take a while."
      ]
    },
    {
      "cell_type": "code",
      "execution_count": 7,
      "metadata": {
        "id": "aJr4t4cz9781"
      },
      "outputs": [],
      "source": [
        "#full_cast = pd.read_csv('tutorial/pycon-pandas-tutorial-master/data/cast.csv')\n",
        "#cast = pd.read_csv('tutorial/pycon-pandas-tutorial-master/data/truncated_cast.csv',\n",
        "#                   index_col=0)\n",
        "cast = pd.read_csv(url_dir + truncated_cast_file)"
      ]
    },
    {
      "cell_type": "code",
      "execution_count": 8,
      "metadata": {
        "colab": {
          "base_uri": "https://localhost:8080/"
        },
        "id": "66PCUt529781",
        "outputId": "75cfb78d-d130-4f78-8ef1-9387b158d9f2"
      },
      "outputs": [
        {
          "output_type": "execute_result",
          "data": {
            "text/plain": [
              "423121"
            ]
          },
          "metadata": {},
          "execution_count": 8
        }
      ],
      "source": [
        "len(cast)"
      ]
    },
    {
      "cell_type": "code",
      "execution_count": 9,
      "metadata": {
        "scrolled": true,
        "colab": {
          "base_uri": "https://localhost:8080/",
          "height": 206
        },
        "id": "krS8osP89781",
        "outputId": "f624a39d-c78a-4ae4-e43d-27e5cfcfd578"
      },
      "outputs": [
        {
          "output_type": "execute_result",
          "data": {
            "text/plain": [
              "                             title  year                   name   type  \\\n",
              "0  In the Land of the Head Hunters  1914           Paddy 'Malid  actor   \n",
              "1           The Colour of Darkness  2016    Ketan Daraji -Gohel  actor   \n",
              "2                     London Betty  2009  Isaiah Entsua -Mensah  actor   \n",
              "3                       Candelabra  2014              Groovin .  actor   \n",
              "4                        Bad Ideas  2012                Hamid .  actor   \n",
              "\n",
              "       character    n  \n",
              "0         Kenada  5.0  \n",
              "1        Chhagan  NaN  \n",
              "2     Camera Man  NaN  \n",
              "3  Lt. Dick Sims  5.0  \n",
              "4      The Diner  NaN  "
            ],
            "text/html": [
              "\n",
              "  <div id=\"df-3df6cf8f-f25b-4033-bbe4-206585afee6b\" class=\"colab-df-container\">\n",
              "    <div>\n",
              "<style scoped>\n",
              "    .dataframe tbody tr th:only-of-type {\n",
              "        vertical-align: middle;\n",
              "    }\n",
              "\n",
              "    .dataframe tbody tr th {\n",
              "        vertical-align: top;\n",
              "    }\n",
              "\n",
              "    .dataframe thead th {\n",
              "        text-align: right;\n",
              "    }\n",
              "</style>\n",
              "<table border=\"1\" class=\"dataframe\">\n",
              "  <thead>\n",
              "    <tr style=\"text-align: right;\">\n",
              "      <th></th>\n",
              "      <th>title</th>\n",
              "      <th>year</th>\n",
              "      <th>name</th>\n",
              "      <th>type</th>\n",
              "      <th>character</th>\n",
              "      <th>n</th>\n",
              "    </tr>\n",
              "  </thead>\n",
              "  <tbody>\n",
              "    <tr>\n",
              "      <th>0</th>\n",
              "      <td>In the Land of the Head Hunters</td>\n",
              "      <td>1914</td>\n",
              "      <td>Paddy 'Malid</td>\n",
              "      <td>actor</td>\n",
              "      <td>Kenada</td>\n",
              "      <td>5.0</td>\n",
              "    </tr>\n",
              "    <tr>\n",
              "      <th>1</th>\n",
              "      <td>The Colour of Darkness</td>\n",
              "      <td>2016</td>\n",
              "      <td>Ketan Daraji -Gohel</td>\n",
              "      <td>actor</td>\n",
              "      <td>Chhagan</td>\n",
              "      <td>NaN</td>\n",
              "    </tr>\n",
              "    <tr>\n",
              "      <th>2</th>\n",
              "      <td>London Betty</td>\n",
              "      <td>2009</td>\n",
              "      <td>Isaiah Entsua -Mensah</td>\n",
              "      <td>actor</td>\n",
              "      <td>Camera Man</td>\n",
              "      <td>NaN</td>\n",
              "    </tr>\n",
              "    <tr>\n",
              "      <th>3</th>\n",
              "      <td>Candelabra</td>\n",
              "      <td>2014</td>\n",
              "      <td>Groovin .</td>\n",
              "      <td>actor</td>\n",
              "      <td>Lt. Dick Sims</td>\n",
              "      <td>5.0</td>\n",
              "    </tr>\n",
              "    <tr>\n",
              "      <th>4</th>\n",
              "      <td>Bad Ideas</td>\n",
              "      <td>2012</td>\n",
              "      <td>Hamid .</td>\n",
              "      <td>actor</td>\n",
              "      <td>The Diner</td>\n",
              "      <td>NaN</td>\n",
              "    </tr>\n",
              "  </tbody>\n",
              "</table>\n",
              "</div>\n",
              "    <div class=\"colab-df-buttons\">\n",
              "\n",
              "  <div class=\"colab-df-container\">\n",
              "    <button class=\"colab-df-convert\" onclick=\"convertToInteractive('df-3df6cf8f-f25b-4033-bbe4-206585afee6b')\"\n",
              "            title=\"Convert this dataframe to an interactive table.\"\n",
              "            style=\"display:none;\">\n",
              "\n",
              "  <svg xmlns=\"http://www.w3.org/2000/svg\" height=\"24px\" viewBox=\"0 -960 960 960\">\n",
              "    <path d=\"M120-120v-720h720v720H120Zm60-500h600v-160H180v160Zm220 220h160v-160H400v160Zm0 220h160v-160H400v160ZM180-400h160v-160H180v160Zm440 0h160v-160H620v160ZM180-180h160v-160H180v160Zm440 0h160v-160H620v160Z\"/>\n",
              "  </svg>\n",
              "    </button>\n",
              "\n",
              "  <style>\n",
              "    .colab-df-container {\n",
              "      display:flex;\n",
              "      gap: 12px;\n",
              "    }\n",
              "\n",
              "    .colab-df-convert {\n",
              "      background-color: #E8F0FE;\n",
              "      border: none;\n",
              "      border-radius: 50%;\n",
              "      cursor: pointer;\n",
              "      display: none;\n",
              "      fill: #1967D2;\n",
              "      height: 32px;\n",
              "      padding: 0 0 0 0;\n",
              "      width: 32px;\n",
              "    }\n",
              "\n",
              "    .colab-df-convert:hover {\n",
              "      background-color: #E2EBFA;\n",
              "      box-shadow: 0px 1px 2px rgba(60, 64, 67, 0.3), 0px 1px 3px 1px rgba(60, 64, 67, 0.15);\n",
              "      fill: #174EA6;\n",
              "    }\n",
              "\n",
              "    .colab-df-buttons div {\n",
              "      margin-bottom: 4px;\n",
              "    }\n",
              "\n",
              "    [theme=dark] .colab-df-convert {\n",
              "      background-color: #3B4455;\n",
              "      fill: #D2E3FC;\n",
              "    }\n",
              "\n",
              "    [theme=dark] .colab-df-convert:hover {\n",
              "      background-color: #434B5C;\n",
              "      box-shadow: 0px 1px 3px 1px rgba(0, 0, 0, 0.15);\n",
              "      filter: drop-shadow(0px 1px 2px rgba(0, 0, 0, 0.3));\n",
              "      fill: #FFFFFF;\n",
              "    }\n",
              "  </style>\n",
              "\n",
              "    <script>\n",
              "      const buttonEl =\n",
              "        document.querySelector('#df-3df6cf8f-f25b-4033-bbe4-206585afee6b button.colab-df-convert');\n",
              "      buttonEl.style.display =\n",
              "        google.colab.kernel.accessAllowed ? 'block' : 'none';\n",
              "\n",
              "      async function convertToInteractive(key) {\n",
              "        const element = document.querySelector('#df-3df6cf8f-f25b-4033-bbe4-206585afee6b');\n",
              "        const dataTable =\n",
              "          await google.colab.kernel.invokeFunction('convertToInteractive',\n",
              "                                                    [key], {});\n",
              "        if (!dataTable) return;\n",
              "\n",
              "        const docLinkHtml = 'Like what you see? Visit the ' +\n",
              "          '<a target=\"_blank\" href=https://colab.research.google.com/notebooks/data_table.ipynb>data table notebook</a>'\n",
              "          + ' to learn more about interactive tables.';\n",
              "        element.innerHTML = '';\n",
              "        dataTable['output_type'] = 'display_data';\n",
              "        await google.colab.output.renderOutput(dataTable, element);\n",
              "        const docLink = document.createElement('div');\n",
              "        docLink.innerHTML = docLinkHtml;\n",
              "        element.appendChild(docLink);\n",
              "      }\n",
              "    </script>\n",
              "  </div>\n",
              "\n",
              "\n",
              "<div id=\"df-a2fe0dc6-bbf9-4230-9a36-f70952abb369\">\n",
              "  <button class=\"colab-df-quickchart\" onclick=\"quickchart('df-a2fe0dc6-bbf9-4230-9a36-f70952abb369')\"\n",
              "            title=\"Suggest charts\"\n",
              "            style=\"display:none;\">\n",
              "\n",
              "<svg xmlns=\"http://www.w3.org/2000/svg\" height=\"24px\"viewBox=\"0 0 24 24\"\n",
              "     width=\"24px\">\n",
              "    <g>\n",
              "        <path d=\"M19 3H5c-1.1 0-2 .9-2 2v14c0 1.1.9 2 2 2h14c1.1 0 2-.9 2-2V5c0-1.1-.9-2-2-2zM9 17H7v-7h2v7zm4 0h-2V7h2v10zm4 0h-2v-4h2v4z\"/>\n",
              "    </g>\n",
              "</svg>\n",
              "  </button>\n",
              "\n",
              "<style>\n",
              "  .colab-df-quickchart {\n",
              "      --bg-color: #E8F0FE;\n",
              "      --fill-color: #1967D2;\n",
              "      --hover-bg-color: #E2EBFA;\n",
              "      --hover-fill-color: #174EA6;\n",
              "      --disabled-fill-color: #AAA;\n",
              "      --disabled-bg-color: #DDD;\n",
              "  }\n",
              "\n",
              "  [theme=dark] .colab-df-quickchart {\n",
              "      --bg-color: #3B4455;\n",
              "      --fill-color: #D2E3FC;\n",
              "      --hover-bg-color: #434B5C;\n",
              "      --hover-fill-color: #FFFFFF;\n",
              "      --disabled-bg-color: #3B4455;\n",
              "      --disabled-fill-color: #666;\n",
              "  }\n",
              "\n",
              "  .colab-df-quickchart {\n",
              "    background-color: var(--bg-color);\n",
              "    border: none;\n",
              "    border-radius: 50%;\n",
              "    cursor: pointer;\n",
              "    display: none;\n",
              "    fill: var(--fill-color);\n",
              "    height: 32px;\n",
              "    padding: 0;\n",
              "    width: 32px;\n",
              "  }\n",
              "\n",
              "  .colab-df-quickchart:hover {\n",
              "    background-color: var(--hover-bg-color);\n",
              "    box-shadow: 0 1px 2px rgba(60, 64, 67, 0.3), 0 1px 3px 1px rgba(60, 64, 67, 0.15);\n",
              "    fill: var(--button-hover-fill-color);\n",
              "  }\n",
              "\n",
              "  .colab-df-quickchart-complete:disabled,\n",
              "  .colab-df-quickchart-complete:disabled:hover {\n",
              "    background-color: var(--disabled-bg-color);\n",
              "    fill: var(--disabled-fill-color);\n",
              "    box-shadow: none;\n",
              "  }\n",
              "\n",
              "  .colab-df-spinner {\n",
              "    border: 2px solid var(--fill-color);\n",
              "    border-color: transparent;\n",
              "    border-bottom-color: var(--fill-color);\n",
              "    animation:\n",
              "      spin 1s steps(1) infinite;\n",
              "  }\n",
              "\n",
              "  @keyframes spin {\n",
              "    0% {\n",
              "      border-color: transparent;\n",
              "      border-bottom-color: var(--fill-color);\n",
              "      border-left-color: var(--fill-color);\n",
              "    }\n",
              "    20% {\n",
              "      border-color: transparent;\n",
              "      border-left-color: var(--fill-color);\n",
              "      border-top-color: var(--fill-color);\n",
              "    }\n",
              "    30% {\n",
              "      border-color: transparent;\n",
              "      border-left-color: var(--fill-color);\n",
              "      border-top-color: var(--fill-color);\n",
              "      border-right-color: var(--fill-color);\n",
              "    }\n",
              "    40% {\n",
              "      border-color: transparent;\n",
              "      border-right-color: var(--fill-color);\n",
              "      border-top-color: var(--fill-color);\n",
              "    }\n",
              "    60% {\n",
              "      border-color: transparent;\n",
              "      border-right-color: var(--fill-color);\n",
              "    }\n",
              "    80% {\n",
              "      border-color: transparent;\n",
              "      border-right-color: var(--fill-color);\n",
              "      border-bottom-color: var(--fill-color);\n",
              "    }\n",
              "    90% {\n",
              "      border-color: transparent;\n",
              "      border-bottom-color: var(--fill-color);\n",
              "    }\n",
              "  }\n",
              "</style>\n",
              "\n",
              "  <script>\n",
              "    async function quickchart(key) {\n",
              "      const quickchartButtonEl =\n",
              "        document.querySelector('#' + key + ' button');\n",
              "      quickchartButtonEl.disabled = true;  // To prevent multiple clicks.\n",
              "      quickchartButtonEl.classList.add('colab-df-spinner');\n",
              "      try {\n",
              "        const charts = await google.colab.kernel.invokeFunction(\n",
              "            'suggestCharts', [key], {});\n",
              "      } catch (error) {\n",
              "        console.error('Error during call to suggestCharts:', error);\n",
              "      }\n",
              "      quickchartButtonEl.classList.remove('colab-df-spinner');\n",
              "      quickchartButtonEl.classList.add('colab-df-quickchart-complete');\n",
              "    }\n",
              "    (() => {\n",
              "      let quickchartButtonEl =\n",
              "        document.querySelector('#df-a2fe0dc6-bbf9-4230-9a36-f70952abb369 button');\n",
              "      quickchartButtonEl.style.display =\n",
              "        google.colab.kernel.accessAllowed ? 'block' : 'none';\n",
              "    })();\n",
              "  </script>\n",
              "</div>\n",
              "\n",
              "    </div>\n",
              "  </div>\n"
            ],
            "application/vnd.google.colaboratory.intrinsic+json": {
              "type": "dataframe",
              "variable_name": "cast"
            }
          },
          "metadata": {},
          "execution_count": 9
        }
      ],
      "source": [
        "cast.head()"
      ]
    },
    {
      "cell_type": "code",
      "execution_count": 10,
      "metadata": {
        "colab": {
          "base_uri": "https://localhost:8080/",
          "height": 458
        },
        "id": "ROccNb0K9781",
        "outputId": "67be27cc-1c62-4008-bf0b-898b7b0a799b"
      },
      "outputs": [
        {
          "output_type": "execute_result",
          "data": {
            "text/plain": [
              "0         In the Land of the Head Hunters\n",
              "1                  The Colour of Darkness\n",
              "2                            London Betty\n",
              "3                              Candelabra\n",
              "4                               Bad Ideas\n",
              "                       ...               \n",
              "423116                  What a Way to Go!\n",
              "423117               When Time Ran Out...\n",
              "423118                 Where the Money Is\n",
              "423119                            Winning\n",
              "423120                               WUSA\n",
              "Name: title, Length: 423121, dtype: object"
            ],
            "text/html": [
              "<div>\n",
              "<style scoped>\n",
              "    .dataframe tbody tr th:only-of-type {\n",
              "        vertical-align: middle;\n",
              "    }\n",
              "\n",
              "    .dataframe tbody tr th {\n",
              "        vertical-align: top;\n",
              "    }\n",
              "\n",
              "    .dataframe thead th {\n",
              "        text-align: right;\n",
              "    }\n",
              "</style>\n",
              "<table border=\"1\" class=\"dataframe\">\n",
              "  <thead>\n",
              "    <tr style=\"text-align: right;\">\n",
              "      <th></th>\n",
              "      <th>title</th>\n",
              "    </tr>\n",
              "  </thead>\n",
              "  <tbody>\n",
              "    <tr>\n",
              "      <th>0</th>\n",
              "      <td>In the Land of the Head Hunters</td>\n",
              "    </tr>\n",
              "    <tr>\n",
              "      <th>1</th>\n",
              "      <td>The Colour of Darkness</td>\n",
              "    </tr>\n",
              "    <tr>\n",
              "      <th>2</th>\n",
              "      <td>London Betty</td>\n",
              "    </tr>\n",
              "    <tr>\n",
              "      <th>3</th>\n",
              "      <td>Candelabra</td>\n",
              "    </tr>\n",
              "    <tr>\n",
              "      <th>4</th>\n",
              "      <td>Bad Ideas</td>\n",
              "    </tr>\n",
              "    <tr>\n",
              "      <th>...</th>\n",
              "      <td>...</td>\n",
              "    </tr>\n",
              "    <tr>\n",
              "      <th>423116</th>\n",
              "      <td>What a Way to Go!</td>\n",
              "    </tr>\n",
              "    <tr>\n",
              "      <th>423117</th>\n",
              "      <td>When Time Ran Out...</td>\n",
              "    </tr>\n",
              "    <tr>\n",
              "      <th>423118</th>\n",
              "      <td>Where the Money Is</td>\n",
              "    </tr>\n",
              "    <tr>\n",
              "      <th>423119</th>\n",
              "      <td>Winning</td>\n",
              "    </tr>\n",
              "    <tr>\n",
              "      <th>423120</th>\n",
              "      <td>WUSA</td>\n",
              "    </tr>\n",
              "  </tbody>\n",
              "</table>\n",
              "<p>423121 rows × 1 columns</p>\n",
              "</div><br><label><b>dtype:</b> object</label>"
            ]
          },
          "metadata": {},
          "execution_count": 10
        }
      ],
      "source": [
        "cast[\"title\"]"
      ]
    },
    {
      "cell_type": "markdown",
      "metadata": {
        "id": "7iMg2-PC9781"
      },
      "source": [
        "Please have a look at the columns of the `cast` `DataFrame`and make sure you understand what information it contains. A row uniquely identifies a role in a film; it contains the film title, the year the file was made, the name of the actor or actress playing the role, and the name of the character they played.  The number in the `'n'` column represents the importance of the part, with the lead role receiving a 1 and all less important roles receiving higher numbers.\n",
        "\n",
        "Sometimes extras are included; with extras included, a big Hollywood production can easily  cast over 1000 actors and will therefore populate over 1000 rows of `cast`.  The character name for the extras will be \"Extra\"."
      ]
    },
    {
      "cell_type": "code",
      "execution_count": 11,
      "metadata": {
        "colab": {
          "base_uri": "https://localhost:8080/"
        },
        "id": "nuj8KBxt9782",
        "outputId": "adfda3fc-e667-4ef6-c8be-7883c2796052"
      },
      "outputs": [
        {
          "output_type": "execute_result",
          "data": {
            "text/plain": [
              "1299"
            ]
          },
          "metadata": {},
          "execution_count": 11
        }
      ],
      "source": [
        "len(cast[(cast['title']  == 'Around the World in 80 Days')&(cast['year']  == 1956)])"
      ]
    },
    {
      "cell_type": "code",
      "execution_count": 12,
      "metadata": {
        "colab": {
          "base_uri": "https://localhost:8080/",
          "height": 206
        },
        "id": "vbzXrQBA9782",
        "outputId": "54f5412d-9be5-4a14-d2e4-275de0b3b8cb"
      },
      "outputs": [
        {
          "output_type": "execute_result",
          "data": {
            "text/plain": [
              "                             title  year           name   type  \\\n",
              "784    Around the World in 80 Days  1956    Ronald Adam  actor   \n",
              "7147   Around the World in 80 Days  1956     Ray Arnett  actor   \n",
              "25665  Around the World in 80 Days  1956  Charles Boyer  actor   \n",
              "40928  Around the World in 80 Days  1956      Suey Chan  actor   \n",
              "44164  Around the World in 80 Days  1956   Martin Cichy  actor   \n",
              "\n",
              "                                      character     n  \n",
              "784                                Club Steward  47.0  \n",
              "7147                                      Extra   NaN  \n",
              "25665  Monsieur Gasse - Thomas Cook Paris Clerk   5.0  \n",
              "40928                                     Extra   NaN  \n",
              "44164                                 Bartender   NaN  "
            ],
            "text/html": [
              "\n",
              "  <div id=\"df-98da0344-e70c-4226-abe5-466e51948a3b\" class=\"colab-df-container\">\n",
              "    <div>\n",
              "<style scoped>\n",
              "    .dataframe tbody tr th:only-of-type {\n",
              "        vertical-align: middle;\n",
              "    }\n",
              "\n",
              "    .dataframe tbody tr th {\n",
              "        vertical-align: top;\n",
              "    }\n",
              "\n",
              "    .dataframe thead th {\n",
              "        text-align: right;\n",
              "    }\n",
              "</style>\n",
              "<table border=\"1\" class=\"dataframe\">\n",
              "  <thead>\n",
              "    <tr style=\"text-align: right;\">\n",
              "      <th></th>\n",
              "      <th>title</th>\n",
              "      <th>year</th>\n",
              "      <th>name</th>\n",
              "      <th>type</th>\n",
              "      <th>character</th>\n",
              "      <th>n</th>\n",
              "    </tr>\n",
              "  </thead>\n",
              "  <tbody>\n",
              "    <tr>\n",
              "      <th>784</th>\n",
              "      <td>Around the World in 80 Days</td>\n",
              "      <td>1956</td>\n",
              "      <td>Ronald Adam</td>\n",
              "      <td>actor</td>\n",
              "      <td>Club Steward</td>\n",
              "      <td>47.0</td>\n",
              "    </tr>\n",
              "    <tr>\n",
              "      <th>7147</th>\n",
              "      <td>Around the World in 80 Days</td>\n",
              "      <td>1956</td>\n",
              "      <td>Ray Arnett</td>\n",
              "      <td>actor</td>\n",
              "      <td>Extra</td>\n",
              "      <td>NaN</td>\n",
              "    </tr>\n",
              "    <tr>\n",
              "      <th>25665</th>\n",
              "      <td>Around the World in 80 Days</td>\n",
              "      <td>1956</td>\n",
              "      <td>Charles Boyer</td>\n",
              "      <td>actor</td>\n",
              "      <td>Monsieur Gasse - Thomas Cook Paris Clerk</td>\n",
              "      <td>5.0</td>\n",
              "    </tr>\n",
              "    <tr>\n",
              "      <th>40928</th>\n",
              "      <td>Around the World in 80 Days</td>\n",
              "      <td>1956</td>\n",
              "      <td>Suey Chan</td>\n",
              "      <td>actor</td>\n",
              "      <td>Extra</td>\n",
              "      <td>NaN</td>\n",
              "    </tr>\n",
              "    <tr>\n",
              "      <th>44164</th>\n",
              "      <td>Around the World in 80 Days</td>\n",
              "      <td>1956</td>\n",
              "      <td>Martin Cichy</td>\n",
              "      <td>actor</td>\n",
              "      <td>Bartender</td>\n",
              "      <td>NaN</td>\n",
              "    </tr>\n",
              "  </tbody>\n",
              "</table>\n",
              "</div>\n",
              "    <div class=\"colab-df-buttons\">\n",
              "\n",
              "  <div class=\"colab-df-container\">\n",
              "    <button class=\"colab-df-convert\" onclick=\"convertToInteractive('df-98da0344-e70c-4226-abe5-466e51948a3b')\"\n",
              "            title=\"Convert this dataframe to an interactive table.\"\n",
              "            style=\"display:none;\">\n",
              "\n",
              "  <svg xmlns=\"http://www.w3.org/2000/svg\" height=\"24px\" viewBox=\"0 -960 960 960\">\n",
              "    <path d=\"M120-120v-720h720v720H120Zm60-500h600v-160H180v160Zm220 220h160v-160H400v160Zm0 220h160v-160H400v160ZM180-400h160v-160H180v160Zm440 0h160v-160H620v160ZM180-180h160v-160H180v160Zm440 0h160v-160H620v160Z\"/>\n",
              "  </svg>\n",
              "    </button>\n",
              "\n",
              "  <style>\n",
              "    .colab-df-container {\n",
              "      display:flex;\n",
              "      gap: 12px;\n",
              "    }\n",
              "\n",
              "    .colab-df-convert {\n",
              "      background-color: #E8F0FE;\n",
              "      border: none;\n",
              "      border-radius: 50%;\n",
              "      cursor: pointer;\n",
              "      display: none;\n",
              "      fill: #1967D2;\n",
              "      height: 32px;\n",
              "      padding: 0 0 0 0;\n",
              "      width: 32px;\n",
              "    }\n",
              "\n",
              "    .colab-df-convert:hover {\n",
              "      background-color: #E2EBFA;\n",
              "      box-shadow: 0px 1px 2px rgba(60, 64, 67, 0.3), 0px 1px 3px 1px rgba(60, 64, 67, 0.15);\n",
              "      fill: #174EA6;\n",
              "    }\n",
              "\n",
              "    .colab-df-buttons div {\n",
              "      margin-bottom: 4px;\n",
              "    }\n",
              "\n",
              "    [theme=dark] .colab-df-convert {\n",
              "      background-color: #3B4455;\n",
              "      fill: #D2E3FC;\n",
              "    }\n",
              "\n",
              "    [theme=dark] .colab-df-convert:hover {\n",
              "      background-color: #434B5C;\n",
              "      box-shadow: 0px 1px 3px 1px rgba(0, 0, 0, 0.15);\n",
              "      filter: drop-shadow(0px 1px 2px rgba(0, 0, 0, 0.3));\n",
              "      fill: #FFFFFF;\n",
              "    }\n",
              "  </style>\n",
              "\n",
              "    <script>\n",
              "      const buttonEl =\n",
              "        document.querySelector('#df-98da0344-e70c-4226-abe5-466e51948a3b button.colab-df-convert');\n",
              "      buttonEl.style.display =\n",
              "        google.colab.kernel.accessAllowed ? 'block' : 'none';\n",
              "\n",
              "      async function convertToInteractive(key) {\n",
              "        const element = document.querySelector('#df-98da0344-e70c-4226-abe5-466e51948a3b');\n",
              "        const dataTable =\n",
              "          await google.colab.kernel.invokeFunction('convertToInteractive',\n",
              "                                                    [key], {});\n",
              "        if (!dataTable) return;\n",
              "\n",
              "        const docLinkHtml = 'Like what you see? Visit the ' +\n",
              "          '<a target=\"_blank\" href=https://colab.research.google.com/notebooks/data_table.ipynb>data table notebook</a>'\n",
              "          + ' to learn more about interactive tables.';\n",
              "        element.innerHTML = '';\n",
              "        dataTable['output_type'] = 'display_data';\n",
              "        await google.colab.output.renderOutput(dataTable, element);\n",
              "        const docLink = document.createElement('div');\n",
              "        docLink.innerHTML = docLinkHtml;\n",
              "        element.appendChild(docLink);\n",
              "      }\n",
              "    </script>\n",
              "  </div>\n",
              "\n",
              "\n",
              "<div id=\"df-598ff7d7-455d-4c59-9e29-0f109c49d9ba\">\n",
              "  <button class=\"colab-df-quickchart\" onclick=\"quickchart('df-598ff7d7-455d-4c59-9e29-0f109c49d9ba')\"\n",
              "            title=\"Suggest charts\"\n",
              "            style=\"display:none;\">\n",
              "\n",
              "<svg xmlns=\"http://www.w3.org/2000/svg\" height=\"24px\"viewBox=\"0 0 24 24\"\n",
              "     width=\"24px\">\n",
              "    <g>\n",
              "        <path d=\"M19 3H5c-1.1 0-2 .9-2 2v14c0 1.1.9 2 2 2h14c1.1 0 2-.9 2-2V5c0-1.1-.9-2-2-2zM9 17H7v-7h2v7zm4 0h-2V7h2v10zm4 0h-2v-4h2v4z\"/>\n",
              "    </g>\n",
              "</svg>\n",
              "  </button>\n",
              "\n",
              "<style>\n",
              "  .colab-df-quickchart {\n",
              "      --bg-color: #E8F0FE;\n",
              "      --fill-color: #1967D2;\n",
              "      --hover-bg-color: #E2EBFA;\n",
              "      --hover-fill-color: #174EA6;\n",
              "      --disabled-fill-color: #AAA;\n",
              "      --disabled-bg-color: #DDD;\n",
              "  }\n",
              "\n",
              "  [theme=dark] .colab-df-quickchart {\n",
              "      --bg-color: #3B4455;\n",
              "      --fill-color: #D2E3FC;\n",
              "      --hover-bg-color: #434B5C;\n",
              "      --hover-fill-color: #FFFFFF;\n",
              "      --disabled-bg-color: #3B4455;\n",
              "      --disabled-fill-color: #666;\n",
              "  }\n",
              "\n",
              "  .colab-df-quickchart {\n",
              "    background-color: var(--bg-color);\n",
              "    border: none;\n",
              "    border-radius: 50%;\n",
              "    cursor: pointer;\n",
              "    display: none;\n",
              "    fill: var(--fill-color);\n",
              "    height: 32px;\n",
              "    padding: 0;\n",
              "    width: 32px;\n",
              "  }\n",
              "\n",
              "  .colab-df-quickchart:hover {\n",
              "    background-color: var(--hover-bg-color);\n",
              "    box-shadow: 0 1px 2px rgba(60, 64, 67, 0.3), 0 1px 3px 1px rgba(60, 64, 67, 0.15);\n",
              "    fill: var(--button-hover-fill-color);\n",
              "  }\n",
              "\n",
              "  .colab-df-quickchart-complete:disabled,\n",
              "  .colab-df-quickchart-complete:disabled:hover {\n",
              "    background-color: var(--disabled-bg-color);\n",
              "    fill: var(--disabled-fill-color);\n",
              "    box-shadow: none;\n",
              "  }\n",
              "\n",
              "  .colab-df-spinner {\n",
              "    border: 2px solid var(--fill-color);\n",
              "    border-color: transparent;\n",
              "    border-bottom-color: var(--fill-color);\n",
              "    animation:\n",
              "      spin 1s steps(1) infinite;\n",
              "  }\n",
              "\n",
              "  @keyframes spin {\n",
              "    0% {\n",
              "      border-color: transparent;\n",
              "      border-bottom-color: var(--fill-color);\n",
              "      border-left-color: var(--fill-color);\n",
              "    }\n",
              "    20% {\n",
              "      border-color: transparent;\n",
              "      border-left-color: var(--fill-color);\n",
              "      border-top-color: var(--fill-color);\n",
              "    }\n",
              "    30% {\n",
              "      border-color: transparent;\n",
              "      border-left-color: var(--fill-color);\n",
              "      border-top-color: var(--fill-color);\n",
              "      border-right-color: var(--fill-color);\n",
              "    }\n",
              "    40% {\n",
              "      border-color: transparent;\n",
              "      border-right-color: var(--fill-color);\n",
              "      border-top-color: var(--fill-color);\n",
              "    }\n",
              "    60% {\n",
              "      border-color: transparent;\n",
              "      border-right-color: var(--fill-color);\n",
              "    }\n",
              "    80% {\n",
              "      border-color: transparent;\n",
              "      border-right-color: var(--fill-color);\n",
              "      border-bottom-color: var(--fill-color);\n",
              "    }\n",
              "    90% {\n",
              "      border-color: transparent;\n",
              "      border-bottom-color: var(--fill-color);\n",
              "    }\n",
              "  }\n",
              "</style>\n",
              "\n",
              "  <script>\n",
              "    async function quickchart(key) {\n",
              "      const quickchartButtonEl =\n",
              "        document.querySelector('#' + key + ' button');\n",
              "      quickchartButtonEl.disabled = true;  // To prevent multiple clicks.\n",
              "      quickchartButtonEl.classList.add('colab-df-spinner');\n",
              "      try {\n",
              "        const charts = await google.colab.kernel.invokeFunction(\n",
              "            'suggestCharts', [key], {});\n",
              "      } catch (error) {\n",
              "        console.error('Error during call to suggestCharts:', error);\n",
              "      }\n",
              "      quickchartButtonEl.classList.remove('colab-df-spinner');\n",
              "      quickchartButtonEl.classList.add('colab-df-quickchart-complete');\n",
              "    }\n",
              "    (() => {\n",
              "      let quickchartButtonEl =\n",
              "        document.querySelector('#df-598ff7d7-455d-4c59-9e29-0f109c49d9ba button');\n",
              "      quickchartButtonEl.style.display =\n",
              "        google.colab.kernel.accessAllowed ? 'block' : 'none';\n",
              "    })();\n",
              "  </script>\n",
              "</div>\n",
              "\n",
              "    </div>\n",
              "  </div>\n"
            ],
            "application/vnd.google.colaboratory.intrinsic+json": {
              "type": "dataframe",
              "summary": "{\n  \"name\": \"cast[(cast['title']  == 'Around the World in 80 Days')&(cast['year']  == 1956)]\",\n  \"rows\": 5,\n  \"fields\": [\n    {\n      \"column\": \"title\",\n      \"properties\": {\n        \"dtype\": \"category\",\n        \"num_unique_values\": 1,\n        \"samples\": [\n          \"Around the World in 80 Days\"\n        ],\n        \"semantic_type\": \"\",\n        \"description\": \"\"\n      }\n    },\n    {\n      \"column\": \"year\",\n      \"properties\": {\n        \"dtype\": \"number\",\n        \"std\": 0,\n        \"min\": 1956,\n        \"max\": 1956,\n        \"num_unique_values\": 1,\n        \"samples\": [\n          1956\n        ],\n        \"semantic_type\": \"\",\n        \"description\": \"\"\n      }\n    },\n    {\n      \"column\": \"name\",\n      \"properties\": {\n        \"dtype\": \"string\",\n        \"num_unique_values\": 5,\n        \"samples\": [\n          \"Ray Arnett\"\n        ],\n        \"semantic_type\": \"\",\n        \"description\": \"\"\n      }\n    },\n    {\n      \"column\": \"type\",\n      \"properties\": {\n        \"dtype\": \"category\",\n        \"num_unique_values\": 1,\n        \"samples\": [\n          \"actor\"\n        ],\n        \"semantic_type\": \"\",\n        \"description\": \"\"\n      }\n    },\n    {\n      \"column\": \"character\",\n      \"properties\": {\n        \"dtype\": \"string\",\n        \"num_unique_values\": 4,\n        \"samples\": [\n          \"Extra\"\n        ],\n        \"semantic_type\": \"\",\n        \"description\": \"\"\n      }\n    },\n    {\n      \"column\": \"n\",\n      \"properties\": {\n        \"dtype\": \"number\",\n        \"std\": 29.698484809834994,\n        \"min\": 5.0,\n        \"max\": 47.0,\n        \"num_unique_values\": 2,\n        \"samples\": [\n          5.0\n        ],\n        \"semantic_type\": \"\",\n        \"description\": \"\"\n      }\n    }\n  ]\n}"
            }
          },
          "metadata": {},
          "execution_count": 12
        }
      ],
      "source": [
        "cast[(cast['title']  == 'Around the World in 80 Days')&(cast['year']  == 1956)].head()"
      ]
    },
    {
      "cell_type": "markdown",
      "metadata": {
        "id": "35UtJoGY9782"
      },
      "source": [
        "As shown in the next cell, there are a number of null or `Nan` values in the `'n'` column,\n",
        "roles for which no ``n`-value is available."
      ]
    },
    {
      "cell_type": "code",
      "execution_count": 13,
      "metadata": {
        "scrolled": true,
        "colab": {
          "base_uri": "https://localhost:8080/"
        },
        "id": "sAQbd5H-9782",
        "outputId": "3d372699-0f77-4ac3-c713-4cc1f932c078"
      },
      "outputs": [
        {
          "output_type": "execute_result",
          "data": {
            "text/plain": [
              "154710"
            ]
          },
          "metadata": {},
          "execution_count": 13
        }
      ],
      "source": [
        "len(cast[cast['n'].isnull()])"
      ]
    },
    {
      "cell_type": "markdown",
      "metadata": {
        "id": "VrBouz2d9782"
      },
      "source": [
        "There are also some very\n",
        "high numbers in the `'n'` column, but not very many of them."
      ]
    },
    {
      "cell_type": "code",
      "execution_count": 14,
      "metadata": {
        "colab": {
          "base_uri": "https://localhost:8080/"
        },
        "id": "6ZKc1myk9782",
        "outputId": "3bbd46d2-d95f-4c1c-e01c-fb4628766bf7"
      },
      "outputs": [
        {
          "output_type": "execute_result",
          "data": {
            "text/plain": [
              "9"
            ]
          },
          "metadata": {},
          "execution_count": 14
        }
      ],
      "source": [
        "len(cast[cast['n']>500])"
      ]
    },
    {
      "cell_type": "markdown",
      "metadata": {
        "id": "j1G5FQqY9782"
      },
      "source": [
        "Note:  A single actor may play more than one role in a film.  In the example below, both roles are the starring role.  I guess Jackie Chan doesn't take a back seat to anyone."
      ]
    },
    {
      "cell_type": "code",
      "execution_count": 15,
      "metadata": {
        "scrolled": false,
        "colab": {
          "base_uri": "https://localhost:8080/",
          "height": 112
        },
        "id": "DKy2SN-Q9784",
        "outputId": "fe335aac-e8ae-4e8d-eaca-2af569c5c2a7"
      },
      "outputs": [
        {
          "output_type": "execute_result",
          "data": {
            "text/plain": [
              "                             title  year         name   type     character  \\\n",
              "40851  Around the World in 80 Days  2004  Jackie Chan  actor  Passepartout   \n",
              "40852  Around the World in 80 Days  2004  Jackie Chan  actor      Lau Xing   \n",
              "\n",
              "         n  \n",
              "40851  1.0  \n",
              "40852  1.0  "
            ],
            "text/html": [
              "\n",
              "  <div id=\"df-10a9d7f5-d857-4292-8658-1e3b60882108\" class=\"colab-df-container\">\n",
              "    <div>\n",
              "<style scoped>\n",
              "    .dataframe tbody tr th:only-of-type {\n",
              "        vertical-align: middle;\n",
              "    }\n",
              "\n",
              "    .dataframe tbody tr th {\n",
              "        vertical-align: top;\n",
              "    }\n",
              "\n",
              "    .dataframe thead th {\n",
              "        text-align: right;\n",
              "    }\n",
              "</style>\n",
              "<table border=\"1\" class=\"dataframe\">\n",
              "  <thead>\n",
              "    <tr style=\"text-align: right;\">\n",
              "      <th></th>\n",
              "      <th>title</th>\n",
              "      <th>year</th>\n",
              "      <th>name</th>\n",
              "      <th>type</th>\n",
              "      <th>character</th>\n",
              "      <th>n</th>\n",
              "    </tr>\n",
              "  </thead>\n",
              "  <tbody>\n",
              "    <tr>\n",
              "      <th>40851</th>\n",
              "      <td>Around the World in 80 Days</td>\n",
              "      <td>2004</td>\n",
              "      <td>Jackie Chan</td>\n",
              "      <td>actor</td>\n",
              "      <td>Passepartout</td>\n",
              "      <td>1.0</td>\n",
              "    </tr>\n",
              "    <tr>\n",
              "      <th>40852</th>\n",
              "      <td>Around the World in 80 Days</td>\n",
              "      <td>2004</td>\n",
              "      <td>Jackie Chan</td>\n",
              "      <td>actor</td>\n",
              "      <td>Lau Xing</td>\n",
              "      <td>1.0</td>\n",
              "    </tr>\n",
              "  </tbody>\n",
              "</table>\n",
              "</div>\n",
              "    <div class=\"colab-df-buttons\">\n",
              "\n",
              "  <div class=\"colab-df-container\">\n",
              "    <button class=\"colab-df-convert\" onclick=\"convertToInteractive('df-10a9d7f5-d857-4292-8658-1e3b60882108')\"\n",
              "            title=\"Convert this dataframe to an interactive table.\"\n",
              "            style=\"display:none;\">\n",
              "\n",
              "  <svg xmlns=\"http://www.w3.org/2000/svg\" height=\"24px\" viewBox=\"0 -960 960 960\">\n",
              "    <path d=\"M120-120v-720h720v720H120Zm60-500h600v-160H180v160Zm220 220h160v-160H400v160Zm0 220h160v-160H400v160ZM180-400h160v-160H180v160Zm440 0h160v-160H620v160ZM180-180h160v-160H180v160Zm440 0h160v-160H620v160Z\"/>\n",
              "  </svg>\n",
              "    </button>\n",
              "\n",
              "  <style>\n",
              "    .colab-df-container {\n",
              "      display:flex;\n",
              "      gap: 12px;\n",
              "    }\n",
              "\n",
              "    .colab-df-convert {\n",
              "      background-color: #E8F0FE;\n",
              "      border: none;\n",
              "      border-radius: 50%;\n",
              "      cursor: pointer;\n",
              "      display: none;\n",
              "      fill: #1967D2;\n",
              "      height: 32px;\n",
              "      padding: 0 0 0 0;\n",
              "      width: 32px;\n",
              "    }\n",
              "\n",
              "    .colab-df-convert:hover {\n",
              "      background-color: #E2EBFA;\n",
              "      box-shadow: 0px 1px 2px rgba(60, 64, 67, 0.3), 0px 1px 3px 1px rgba(60, 64, 67, 0.15);\n",
              "      fill: #174EA6;\n",
              "    }\n",
              "\n",
              "    .colab-df-buttons div {\n",
              "      margin-bottom: 4px;\n",
              "    }\n",
              "\n",
              "    [theme=dark] .colab-df-convert {\n",
              "      background-color: #3B4455;\n",
              "      fill: #D2E3FC;\n",
              "    }\n",
              "\n",
              "    [theme=dark] .colab-df-convert:hover {\n",
              "      background-color: #434B5C;\n",
              "      box-shadow: 0px 1px 3px 1px rgba(0, 0, 0, 0.15);\n",
              "      filter: drop-shadow(0px 1px 2px rgba(0, 0, 0, 0.3));\n",
              "      fill: #FFFFFF;\n",
              "    }\n",
              "  </style>\n",
              "\n",
              "    <script>\n",
              "      const buttonEl =\n",
              "        document.querySelector('#df-10a9d7f5-d857-4292-8658-1e3b60882108 button.colab-df-convert');\n",
              "      buttonEl.style.display =\n",
              "        google.colab.kernel.accessAllowed ? 'block' : 'none';\n",
              "\n",
              "      async function convertToInteractive(key) {\n",
              "        const element = document.querySelector('#df-10a9d7f5-d857-4292-8658-1e3b60882108');\n",
              "        const dataTable =\n",
              "          await google.colab.kernel.invokeFunction('convertToInteractive',\n",
              "                                                    [key], {});\n",
              "        if (!dataTable) return;\n",
              "\n",
              "        const docLinkHtml = 'Like what you see? Visit the ' +\n",
              "          '<a target=\"_blank\" href=https://colab.research.google.com/notebooks/data_table.ipynb>data table notebook</a>'\n",
              "          + ' to learn more about interactive tables.';\n",
              "        element.innerHTML = '';\n",
              "        dataTable['output_type'] = 'display_data';\n",
              "        await google.colab.output.renderOutput(dataTable, element);\n",
              "        const docLink = document.createElement('div');\n",
              "        docLink.innerHTML = docLinkHtml;\n",
              "        element.appendChild(docLink);\n",
              "      }\n",
              "    </script>\n",
              "  </div>\n",
              "\n",
              "\n",
              "<div id=\"df-3ab57af1-d760-4155-946f-04a082d7b2bb\">\n",
              "  <button class=\"colab-df-quickchart\" onclick=\"quickchart('df-3ab57af1-d760-4155-946f-04a082d7b2bb')\"\n",
              "            title=\"Suggest charts\"\n",
              "            style=\"display:none;\">\n",
              "\n",
              "<svg xmlns=\"http://www.w3.org/2000/svg\" height=\"24px\"viewBox=\"0 0 24 24\"\n",
              "     width=\"24px\">\n",
              "    <g>\n",
              "        <path d=\"M19 3H5c-1.1 0-2 .9-2 2v14c0 1.1.9 2 2 2h14c1.1 0 2-.9 2-2V5c0-1.1-.9-2-2-2zM9 17H7v-7h2v7zm4 0h-2V7h2v10zm4 0h-2v-4h2v4z\"/>\n",
              "    </g>\n",
              "</svg>\n",
              "  </button>\n",
              "\n",
              "<style>\n",
              "  .colab-df-quickchart {\n",
              "      --bg-color: #E8F0FE;\n",
              "      --fill-color: #1967D2;\n",
              "      --hover-bg-color: #E2EBFA;\n",
              "      --hover-fill-color: #174EA6;\n",
              "      --disabled-fill-color: #AAA;\n",
              "      --disabled-bg-color: #DDD;\n",
              "  }\n",
              "\n",
              "  [theme=dark] .colab-df-quickchart {\n",
              "      --bg-color: #3B4455;\n",
              "      --fill-color: #D2E3FC;\n",
              "      --hover-bg-color: #434B5C;\n",
              "      --hover-fill-color: #FFFFFF;\n",
              "      --disabled-bg-color: #3B4455;\n",
              "      --disabled-fill-color: #666;\n",
              "  }\n",
              "\n",
              "  .colab-df-quickchart {\n",
              "    background-color: var(--bg-color);\n",
              "    border: none;\n",
              "    border-radius: 50%;\n",
              "    cursor: pointer;\n",
              "    display: none;\n",
              "    fill: var(--fill-color);\n",
              "    height: 32px;\n",
              "    padding: 0;\n",
              "    width: 32px;\n",
              "  }\n",
              "\n",
              "  .colab-df-quickchart:hover {\n",
              "    background-color: var(--hover-bg-color);\n",
              "    box-shadow: 0 1px 2px rgba(60, 64, 67, 0.3), 0 1px 3px 1px rgba(60, 64, 67, 0.15);\n",
              "    fill: var(--button-hover-fill-color);\n",
              "  }\n",
              "\n",
              "  .colab-df-quickchart-complete:disabled,\n",
              "  .colab-df-quickchart-complete:disabled:hover {\n",
              "    background-color: var(--disabled-bg-color);\n",
              "    fill: var(--disabled-fill-color);\n",
              "    box-shadow: none;\n",
              "  }\n",
              "\n",
              "  .colab-df-spinner {\n",
              "    border: 2px solid var(--fill-color);\n",
              "    border-color: transparent;\n",
              "    border-bottom-color: var(--fill-color);\n",
              "    animation:\n",
              "      spin 1s steps(1) infinite;\n",
              "  }\n",
              "\n",
              "  @keyframes spin {\n",
              "    0% {\n",
              "      border-color: transparent;\n",
              "      border-bottom-color: var(--fill-color);\n",
              "      border-left-color: var(--fill-color);\n",
              "    }\n",
              "    20% {\n",
              "      border-color: transparent;\n",
              "      border-left-color: var(--fill-color);\n",
              "      border-top-color: var(--fill-color);\n",
              "    }\n",
              "    30% {\n",
              "      border-color: transparent;\n",
              "      border-left-color: var(--fill-color);\n",
              "      border-top-color: var(--fill-color);\n",
              "      border-right-color: var(--fill-color);\n",
              "    }\n",
              "    40% {\n",
              "      border-color: transparent;\n",
              "      border-right-color: var(--fill-color);\n",
              "      border-top-color: var(--fill-color);\n",
              "    }\n",
              "    60% {\n",
              "      border-color: transparent;\n",
              "      border-right-color: var(--fill-color);\n",
              "    }\n",
              "    80% {\n",
              "      border-color: transparent;\n",
              "      border-right-color: var(--fill-color);\n",
              "      border-bottom-color: var(--fill-color);\n",
              "    }\n",
              "    90% {\n",
              "      border-color: transparent;\n",
              "      border-bottom-color: var(--fill-color);\n",
              "    }\n",
              "  }\n",
              "</style>\n",
              "\n",
              "  <script>\n",
              "    async function quickchart(key) {\n",
              "      const quickchartButtonEl =\n",
              "        document.querySelector('#' + key + ' button');\n",
              "      quickchartButtonEl.disabled = true;  // To prevent multiple clicks.\n",
              "      quickchartButtonEl.classList.add('colab-df-spinner');\n",
              "      try {\n",
              "        const charts = await google.colab.kernel.invokeFunction(\n",
              "            'suggestCharts', [key], {});\n",
              "      } catch (error) {\n",
              "        console.error('Error during call to suggestCharts:', error);\n",
              "      }\n",
              "      quickchartButtonEl.classList.remove('colab-df-spinner');\n",
              "      quickchartButtonEl.classList.add('colab-df-quickchart-complete');\n",
              "    }\n",
              "    (() => {\n",
              "      let quickchartButtonEl =\n",
              "        document.querySelector('#df-3ab57af1-d760-4155-946f-04a082d7b2bb button');\n",
              "      quickchartButtonEl.style.display =\n",
              "        google.colab.kernel.accessAllowed ? 'block' : 'none';\n",
              "    })();\n",
              "  </script>\n",
              "</div>\n",
              "\n",
              "    </div>\n",
              "  </div>\n"
            ],
            "application/vnd.google.colaboratory.intrinsic+json": {
              "type": "dataframe",
              "summary": "{\n  \"name\": \"cast[(cast['title']=='Around the World in 80 Days')&(cast['year']==2004)&(cast['n']==1)]\",\n  \"rows\": 2,\n  \"fields\": [\n    {\n      \"column\": \"title\",\n      \"properties\": {\n        \"dtype\": \"string\",\n        \"num_unique_values\": 1,\n        \"samples\": [\n          \"Around the World in 80 Days\"\n        ],\n        \"semantic_type\": \"\",\n        \"description\": \"\"\n      }\n    },\n    {\n      \"column\": \"year\",\n      \"properties\": {\n        \"dtype\": \"number\",\n        \"std\": 0,\n        \"min\": 2004,\n        \"max\": 2004,\n        \"num_unique_values\": 1,\n        \"samples\": [\n          2004\n        ],\n        \"semantic_type\": \"\",\n        \"description\": \"\"\n      }\n    },\n    {\n      \"column\": \"name\",\n      \"properties\": {\n        \"dtype\": \"string\",\n        \"num_unique_values\": 1,\n        \"samples\": [\n          \"Jackie Chan\"\n        ],\n        \"semantic_type\": \"\",\n        \"description\": \"\"\n      }\n    },\n    {\n      \"column\": \"type\",\n      \"properties\": {\n        \"dtype\": \"string\",\n        \"num_unique_values\": 1,\n        \"samples\": [\n          \"actor\"\n        ],\n        \"semantic_type\": \"\",\n        \"description\": \"\"\n      }\n    },\n    {\n      \"column\": \"character\",\n      \"properties\": {\n        \"dtype\": \"string\",\n        \"num_unique_values\": 2,\n        \"samples\": [\n          \"Lau Xing\"\n        ],\n        \"semantic_type\": \"\",\n        \"description\": \"\"\n      }\n    },\n    {\n      \"column\": \"n\",\n      \"properties\": {\n        \"dtype\": \"number\",\n        \"std\": 0.0,\n        \"min\": 1.0,\n        \"max\": 1.0,\n        \"num_unique_values\": 1,\n        \"samples\": [\n          1.0\n        ],\n        \"semantic_type\": \"\",\n        \"description\": \"\"\n      }\n    }\n  ]\n}"
            }
          },
          "metadata": {},
          "execution_count": 15
        }
      ],
      "source": [
        "cast[(cast['title']=='Around the World in 80 Days')&(cast['year']==2004)&(cast['n']==1)]"
      ]
    },
    {
      "cell_type": "markdown",
      "metadata": {
        "id": "jKKq2vnb9784"
      },
      "source": [
        "## Part A Questions involving selecting and sorting subsets of the rows in the Dataset"
      ]
    },
    {
      "cell_type": "markdown",
      "metadata": {
        "collapsed": true,
        "id": "bOliDiKa9784"
      },
      "source": [
        "### A.1 How many movies are listed in the titles dataframe?"
      ]
    },
    {
      "cell_type": "markdown",
      "metadata": {
        "id": "sb-jE6yG9785"
      },
      "source": [
        "As an example, we have put the answer in the next cell.  Be sure to execute the cell containing your solution, so that the answer to the question is displayed in the output as it is in this example.\n",
        "\n",
        "For each question, first give some thought to which of the two DataFrames loaded in the section entitled \"Loading the Data\" is best suited to provide an answer."
      ]
    },
    {
      "cell_type": "code",
      "execution_count": 16,
      "metadata": {
        "colab": {
          "base_uri": "https://localhost:8080/"
        },
        "id": "xMBovJ529785",
        "outputId": "36acbb9c-6e92-4a57-cff3-56f8977144a1"
      },
      "outputs": [
        {
          "output_type": "execute_result",
          "data": {
            "text/plain": [
              "226013"
            ]
          },
          "metadata": {},
          "execution_count": 16
        }
      ],
      "source": [
        "len(titles)"
      ]
    },
    {
      "cell_type": "code",
      "execution_count": 17,
      "metadata": {
        "colab": {
          "base_uri": "https://localhost:8080/"
        },
        "id": "sazsD8Vs9785",
        "outputId": "3db3a29f-fbb0-4d1e-9838-74c2774fc90f"
      },
      "outputs": [
        {
          "output_type": "execute_result",
          "data": {
            "text/plain": [
              "226013"
            ]
          },
          "metadata": {},
          "execution_count": 17
        }
      ],
      "source": [
        "len(titles)"
      ]
    },
    {
      "cell_type": "markdown",
      "metadata": {
        "collapsed": true,
        "id": "GwbraRsg9785"
      },
      "source": [
        "### A.2 How many movies have the title \"Hamlet\"?"
      ]
    },
    {
      "cell_type": "markdown",
      "metadata": {
        "id": "Q6E0fKES9785"
      },
      "source": [
        "Hint: one approach is to use a Boolean mask"
      ]
    },
    {
      "cell_type": "code",
      "execution_count": 27,
      "metadata": {
        "colab": {
          "base_uri": "https://localhost:8080/"
        },
        "id": "hFMFnGZK9785",
        "outputId": "c93ddbac-0aa8-4245-e7a4-6d190ffb17c9"
      },
      "outputs": [
        {
          "output_type": "stream",
          "name": "stdout",
          "text": [
            "Movies with title 'Hamlet' - 20\n"
          ]
        }
      ],
      "source": [
        "x = len(titles[titles['title'] == 'Hamlet'])\n",
        "print(f\"Movies with title 'Hamlet' - {x}\")"
      ]
    },
    {
      "cell_type": "markdown",
      "metadata": {
        "collapsed": true,
        "id": "j6Fh-wwK9786"
      },
      "source": [
        "### A.3  When was the first movie titled \"Hamlet\" made?"
      ]
    },
    {
      "cell_type": "code",
      "execution_count": 24,
      "metadata": {
        "colab": {
          "base_uri": "https://localhost:8080/"
        },
        "id": "Jsda94Zd9786",
        "outputId": "6660297a-c20c-4bb3-a976-1f6b03ba2bbd"
      },
      "outputs": [
        {
          "output_type": "stream",
          "name": "stdout",
          "text": [
            "First 'Hamlet' movie made in year: 1910\n"
          ]
        }
      ],
      "source": [
        "hamlet_years = titles[titles['title'] == 'Hamlet']['year']\n",
        "print(\"First 'Hamlet' movie made in year:\", hamlet_years.min() if not hamlet_years.empty else \"No 'Hamlet' found\")"
      ]
    },
    {
      "cell_type": "markdown",
      "metadata": {
        "collapsed": true,
        "id": "Elz3ZkPb9786"
      },
      "source": [
        "### A.4 How many movies were made from 1950 through 1959?"
      ]
    },
    {
      "cell_type": "code",
      "execution_count": 25,
      "metadata": {
        "colab": {
          "base_uri": "https://localhost:8080/"
        },
        "id": "gEHxlN6t979B",
        "outputId": "e7c47932-ffcc-4134-cb6e-3c50ff54c3ae"
      },
      "outputs": [
        {
          "output_type": "stream",
          "name": "stdout",
          "text": [
            "Movies from 1950–1959: 12664\n"
          ]
        }
      ],
      "source": [
        "movies_1950s = titles[(titles['year'] >= 1950) & (titles['year'] <= 1959)]\n",
        "print(\"Movies from 1950–1959:\", len(movies_1950s))"
      ]
    },
    {
      "cell_type": "markdown",
      "metadata": {
        "collapsed": true,
        "id": "0YZVHAbY979B"
      },
      "source": [
        "###  A.5 How many credited roles are there in the movie \"Inception\"?  We'll interpret  this to mean we should not count roles that have no `n`-value."
      ]
    },
    {
      "cell_type": "markdown",
      "metadata": {
        "id": "ODvJAIv0979C"
      },
      "source": [
        "The idea is that some of the rows have `NaN` in the `'n'` column.  These are not\n",
        "values.  To eliminate such rows use the `.notnull()` method."
      ]
    },
    {
      "cell_type": "code",
      "execution_count": 26,
      "metadata": {
        "colab": {
          "base_uri": "https://localhost:8080/"
        },
        "id": "vqBDjUnf979C",
        "outputId": "b91ee1c7-0d32-467b-c87a-6b9a1ade8eb4"
      },
      "outputs": [
        {
          "output_type": "stream",
          "name": "stdout",
          "text": [
            "Credited roles in 'Inception': 51\n"
          ]
        }
      ],
      "source": [
        "inception_roles = cast[(cast['title'] == 'Inception') & (cast['n'].notnull())]\n",
        "print(\"Credited roles in 'Inception':\", len(inception_roles))"
      ]
    },
    {
      "cell_type": "markdown",
      "metadata": {
        "collapsed": true,
        "id": "1bIT8SWY979C"
      },
      "source": [
        "###  A.6 * How many roles were credited in the version of Hamlet in which Kenneth Branagh plays Hamlet?\n"
      ]
    },
    {
      "cell_type": "code",
      "execution_count": 28,
      "metadata": {
        "colab": {
          "base_uri": "https://localhost:8080/"
        },
        "id": "mLj9-dUA979C",
        "outputId": "f3b7d259-1de2-42c5-d0e8-6f9a95c81fe3"
      },
      "outputs": [
        {
          "output_type": "stream",
          "name": "stdout",
          "text": [
            "Roles in Branagh's 'Hamlet': 1\n"
          ]
        }
      ],
      "source": [
        "branagh_hamlet = cast[(cast['title'] == 'Hamlet') & (cast['name'] == 'Kenneth Branagh') & (cast['character'] == 'Hamlet')]\n",
        "print(\"Roles in Branagh's 'Hamlet':\", len(branagh_hamlet))"
      ]
    },
    {
      "cell_type": "markdown",
      "metadata": {
        "collapsed": true,
        "id": "vWRCvCnU979C"
      },
      "source": [
        "###  A.7  How many roles for a character named \"Hamlet\" have there been in films not entitled \"Hamlet\"?  "
      ]
    },
    {
      "cell_type": "code",
      "execution_count": 29,
      "metadata": {
        "colab": {
          "base_uri": "https://localhost:8080/"
        },
        "id": "-0GB9gXD979C",
        "outputId": "e5b6c70a-f992-42af-84f5-c70cd9caeb9d"
      },
      "outputs": [
        {
          "output_type": "stream",
          "name": "stdout",
          "text": [
            "'Hamlet' characters in non-'Hamlet' films: 12\n"
          ]
        }
      ],
      "source": [
        "hamlet_chars_non_hamlet = cast[(cast['character'] == 'Hamlet') & (cast['title'] != 'Hamlet')]\n",
        "print(\"'Hamlet' characters in non-'Hamlet' films:\", len(hamlet_chars_non_hamlet))"
      ]
    },
    {
      "cell_type": "markdown",
      "metadata": {
        "collapsed": true,
        "id": "eIZrMmZc979C"
      },
      "source": [
        "###  A.8  * How many people have played \"James Bond\" as a leading role?\n",
        "\n",
        "Yes, I'm thinking of the Ian Fleming character that has given rise to a whole film franchise,\n",
        "but I'm going to allow for a little noise.  It\n",
        "turns out that characters named \"James Bond\" have come up many times in film history.  Adding\n",
        "the qualification \"as a leading role\" helps with that.\n",
        "This will still leave in a couple of non-Ian Fleming Bonds, but don't worry.\n",
        "If you just answer the question literally, your\n",
        "answer should be very close to a list of the actors who've played the\n",
        "Ian Fleming character.  By the way,  David Niven will be missing from\n",
        "that list, because the name of the character\n",
        "listed in the credits of his 1967 parody is not \"James Bond\" but \"Sir James Bond\".\n",
        "It's okay to leave out David Niven.  It was a parody, not a real Bond film.\n",
        "\n",
        "Note: Relative to this DB (which is dated), the historically correct answer to the question how many actors played the Ian Fleming character is 6. The literal answer to the question in this DB is\n",
        "greater than 6 because of a few superfluous Bonds, but if your answer is a lot more than 6\n",
        "(greater than 10), then there's an issue with your code.  There is a technical challenge in this question;\n",
        "it is tricky to get exactly the right list of actors.  Pay attention to the English.  It's how many peoples, not how many roles."
      ]
    },
    {
      "cell_type": "code",
      "execution_count": 43,
      "metadata": {
        "colab": {
          "base_uri": "https://localhost:8080/"
        },
        "id": "Jh5Qn-3M979C",
        "outputId": "16befe63-ef6b-45e3-f73e-912545459ed0"
      },
      "outputs": [
        {
          "output_type": "stream",
          "name": "stdout",
          "text": [
            "People who played 'James Bond': 8\n"
          ]
        }
      ],
      "source": [
        "james_bond_actors = cast[(cast['character'] == 'James Bond') & (cast['n'] == 1)]['name'].unique()\n",
        "print(\"People who played 'James Bond':\", len(james_bond_actors))\n",
        "# cast[(cast['character'] == 'James Bond') & (cast['n'] == 1)].head(30)"
      ]
    },
    {
      "cell_type": "markdown",
      "metadata": {
        "collapsed": true,
        "id": "hf73YyuW979C"
      },
      "source": [
        "###  A.9  *  List the films and the characters in which Paul Newman played a role he had played before.\n",
        "\n",
        "Hint: The `.duplicated()`  method may be of help.\n",
        "\n",
        "Sad note. If you are any kind of Paul Newman fan you will see there is a\n",
        "very important role being left out if you compute this answer in a logical\n",
        "way.  This is because the name of the character\n",
        "has been slightly altered in the second movie.  Don't try to fix this.  Let's\n",
        "just call this data corruption."
      ]
    },
    {
      "cell_type": "code",
      "execution_count": 31,
      "metadata": {
        "colab": {
          "base_uri": "https://localhost:8080/"
        },
        "id": "rJ33i39-979C",
        "outputId": "a038b60a-7272-47c0-ae37-1a4978bae079"
      },
      "outputs": [
        {
          "output_type": "stream",
          "name": "stdout",
          "text": [
            "Paul Newman's repeated roles:\n",
            "                                      title      character\n",
            "411891                              Harper     Lew Harper\n",
            "423066  Butch Cassidy and the Sundance Kid  Butch Cassidy\n",
            "423067                                Cars     Doc Hudson\n",
            "423068                              Cars 3     Doc Hudson\n",
            "423079                       Into the West  Butch Cassidy\n",
            "423082                      Mickybo and Me  Butch Cassidy\n",
            "423097                   The Drowning Pool     Lew Harper\n"
          ]
        }
      ],
      "source": [
        "paul_newman = cast[cast['name'] == 'Paul Newman']\n",
        "duplicate_roles = paul_newman[paul_newman.duplicated(subset='character', keep=False)]\n",
        "print(\"Paul Newman's repeated roles:\\n\", duplicate_roles[['title', 'character']].drop_duplicates() if not duplicate_roles.empty else \"None\")"
      ]
    },
    {
      "cell_type": "markdown",
      "metadata": {
        "scrolled": true,
        "id": "EbdN24k8979C"
      },
      "source": [
        "###  A.10  * List all characters whose name contains the string \"Butterfly\"  without duplicates.\n",
        "\n",
        "Ignore case.  Your answer should include characters whose name is \"Butterfly\"\n",
        "or \"Monarch the butterfly\", as well as those whose last name is \"Butterfly\" (such as \"Madame Butterfly\"), as well as those whose last name is \"Butterfield\" or \"Butterworth\", and so on.\n",
        "\n",
        "Note:  Try using  a string method on the appropriate column using `.str`."
      ]
    },
    {
      "cell_type": "code",
      "execution_count": 53,
      "metadata": {
        "colab": {
          "base_uri": "https://localhost:8080/"
        },
        "id": "RNwjDd7c979C",
        "outputId": "3128221b-bc1a-460b-ae52-db3352389fc8"
      },
      "outputs": [
        {
          "output_type": "stream",
          "name": "stdout",
          "text": [
            "Characters whose name contains variations of 'Butterfly':\n",
            "918                       Butterfly Kid\n",
            "3006        Mr. Butterworth, Headmaster\n",
            "15680                       Butterworth\n",
            "21411     J. Butterfield 'Butts' Conroy\n",
            "25595       Lt. Gerald Hugh Butterworth\n",
            "                      ...              \n",
            "423048                   Butterfly Wong\n",
            "423052          Butterfly Clan Princess\n",
            "423055              Butterfly Rave Girl\n",
            "423056        Butterfly Pavilion Patron\n",
            "423060                     Butterfly Wu\n",
            "Name: character, Length: 73, dtype: object\n"
          ]
        }
      ],
      "source": [
        "# cast[cast['character'].str.contains('Butter', case=False, na=False)]\n",
        "\n",
        "# I had a doubt in the question, question says strings containign. \"Butterfly\" but in the desciption, butterfiled and butterworth is also allowed,\n",
        "# so my initial approach which I commented out above can simply find characters containing 'butter' and be done with it but I have tried a complecated approach which contains all the variations.\n",
        "\n",
        "pattern = r'butter(?:fly|field|worth)'\n",
        "butterfly_chars = cast[cast['character'].str.contains(pattern, case=False, na=False)]\n",
        "\n",
        "unique_butterfly_chars = butterfly_chars['character'].drop_duplicates()\n",
        "\n",
        "print(\"Characters whose name contains variations of 'Butterfly':\")\n",
        "print(unique_butterfly_chars)"
      ]
    },
    {
      "cell_type": "markdown",
      "metadata": {
        "id": "niZz0EY1979C"
      },
      "source": [
        "## Parts  B and C:  Questions needing value_counts, pivot_tables, or cross tabulation\n",
        "\n",
        "Part B contains questions involving the cast and title\n",
        "data used in Part A. Part C contains questions involving a new data set you will load below.   Completing the Pandas assignmment for the second Pandas module requires doing both Part B and Part C."
      ]
    },
    {
      "cell_type": "markdown",
      "metadata": {
        "collapsed": true,
        "id": "dgETzh2B979C"
      },
      "source": [
        "Brief discussion of an important issue for the data below.\n",
        "\n",
        "Some of the numbers in the following table are going\n",
        "to be misleading:"
      ]
    },
    {
      "cell_type": "code",
      "execution_count": null,
      "metadata": {
        "id": "qgwqlCoo979C"
      },
      "outputs": [],
      "source": [
        "pt000 = cast.pivot_table(index='title',aggfunc='size').sort_values(ascending=False)"
      ]
    },
    {
      "cell_type": "markdown",
      "metadata": {
        "id": "nyc8hD0r979C"
      },
      "source": [
        "It looks as if this might give us film cast sizes (`.size()` tells how many rows in each group, and rows are roles)."
      ]
    },
    {
      "cell_type": "code",
      "execution_count": null,
      "metadata": {
        "id": "-HQfiRIY979C",
        "outputId": "78655037-26b7-4a5e-8d0a-41e73ca144c6"
      },
      "outputs": [
        {
          "data": {
            "text/plain": [
              "title\n",
              "Around the World in 80 Days     1364\n",
              "Hamlet                           342\n",
              "Mr. Smith Goes to Washington     217\n",
              "Wells Fargo                      193\n",
              "Union Pacific                    183\n",
              "dtype: int64"
            ]
          },
          "execution_count": 24,
          "metadata": {},
          "output_type": "execute_result"
        }
      ],
      "source": [
        "pt000[:5]"
      ]
    },
    {
      "cell_type": "markdown",
      "metadata": {
        "id": "ZMbUekK9979D"
      },
      "source": [
        "But that's not quite right: And here's why:"
      ]
    },
    {
      "cell_type": "code",
      "execution_count": null,
      "metadata": {
        "id": "9Af7IyON979D",
        "outputId": "6dd5044b-a291-420a-e2cd-5be968314604"
      },
      "outputs": [
        {
          "data": {
            "text/plain": [
              "1364"
            ]
          },
          "execution_count": 25,
          "metadata": {},
          "output_type": "execute_result"
        }
      ],
      "source": [
        "len(cast[cast['title']=='Around the World in 80 Days'])"
      ]
    },
    {
      "cell_type": "code",
      "execution_count": null,
      "metadata": {
        "scrolled": true,
        "id": "ojTX5SZu979D",
        "outputId": "84926e26-535b-4911-a751-e2e8ec5e80d4"
      },
      "outputs": [
        {
          "data": {
            "text/plain": [
              "784       1956\n",
              "7147      1956\n",
              "25665     1956\n",
              "40851     2004\n",
              "40852     2004\n",
              "          ... \n",
              "422807    1956\n",
              "422808    1956\n",
              "422809    2004\n",
              "422810    1956\n",
              "422811    1956\n",
              "Name: year, Length: 1364, dtype: int64"
            ]
          },
          "execution_count": 23,
          "metadata": {},
          "output_type": "execute_result"
        }
      ],
      "source": [
        "cast[cast['title']=='Around the World in 80 Days']['year']"
      ]
    },
    {
      "cell_type": "markdown",
      "metadata": {
        "id": "a1wmG986979D"
      },
      "source": [
        "So 1364 is actually the size of the combined cast of two films, one made in 1956 and the other in 2004.  Not whjat we thought we were getting.  Let's call this the **remake** issue.  Bear it in mind as you answer the questions below."
      ]
    },
    {
      "cell_type": "markdown",
      "metadata": {
        "id": "TRxC-Ari979D"
      },
      "source": [
        "### Discussion question: Of the films made before 1939, which had the largest cast?\n",
        "\n",
        "After you've made a DataFrame containing the set of rows in `cast` that you're interested in,\n",
        "you need to do a computation involving counting.  The question to think about\n",
        "is what you want to count.  You **don't** want to do this:\n",
        "\n",
        "```\n",
        "pd.crosstab(cast_pre_1939['title'],cast_pre_1939['name'])\n",
        "```\n",
        "\n",
        "since after a **very** long computation, this will end up telling you\n",
        "the number of characters each actor/actress played in each film\n",
        "(which is usually 1).\n",
        "\n",
        "So think about the structure of the data.  This is actually pretty simple.\n"
      ]
    },
    {
      "cell_type": "markdown",
      "metadata": {
        "id": "AmpukiLS979D"
      },
      "source": [
        "Films made before 1939:"
      ]
    },
    {
      "cell_type": "code",
      "execution_count": null,
      "metadata": {
        "id": "_d3TJX3d979D"
      },
      "outputs": [],
      "source": [
        "cast_pre_1939 = cast[cast['year'] < 1939]"
      ]
    },
    {
      "cell_type": "markdown",
      "metadata": {
        "id": "V0udy1Nd979D"
      },
      "source": [
        "The simplest answer is **wrong**, because of the remake issue."
      ]
    },
    {
      "cell_type": "code",
      "execution_count": null,
      "metadata": {
        "id": "BR1wrrq6979D",
        "outputId": "d1c931b4-cd13-463d-bf45-af9109e79ebd"
      },
      "outputs": [
        {
          "data": {
            "text/plain": [
              "title\n",
              "Wells Fargo                   193\n",
              "Mr. Deeds Goes to Town        177\n",
              "The Buccaneer                 172\n",
              "The Merry Widow               164\n",
              "You Can't Take It with You    161\n",
              "Name: count, dtype: int64"
            ]
          },
          "execution_count": 61,
          "metadata": {},
          "output_type": "execute_result"
        }
      ],
      "source": [
        "title_counts_pre_1939 = cast_pre_1939['title'].value_counts()\n",
        "title_counts_pre_1939.head()"
      ]
    },
    {
      "cell_type": "markdown",
      "metadata": {
        "id": "_BWlHLqS979D"
      },
      "source": [
        "Consider:"
      ]
    },
    {
      "cell_type": "code",
      "execution_count": null,
      "metadata": {
        "id": "5dj1I9D2979D",
        "outputId": "adec5a87-d2e9-4e5d-f68a-bfe14757fa23"
      },
      "outputs": [
        {
          "data": {
            "text/plain": [
              "37"
            ]
          },
          "execution_count": 62,
          "metadata": {},
          "output_type": "execute_result"
        }
      ],
      "source": [
        "title_counts_pre_1939[\"Hamlet\"]"
      ]
    },
    {
      "cell_type": "markdown",
      "metadata": {
        "id": "eK8qfxuj979D"
      },
      "source": [
        "It's wrong because a film title like  \"Hamlet\" has had  many remakes and\n",
        "`title_counts_pre_1939` conflates these films:"
      ]
    },
    {
      "cell_type": "code",
      "execution_count": null,
      "metadata": {
        "id": "741o6Aby979D",
        "outputId": "214f8481-139c-4234-e303-d1dfcff69dac"
      },
      "outputs": [
        {
          "data": {
            "text/plain": [
              "array([1921, 1913, 1911, 1910])"
            ]
          },
          "execution_count": 63,
          "metadata": {},
          "output_type": "execute_result"
        }
      ],
      "source": [
        "cast_pre_1939[cast_pre_1939['title'] == 'Hamlet']['year'].unique()"
      ]
    },
    {
      "cell_type": "markdown",
      "metadata": {
        "id": "_Dot9lhv979D"
      },
      "source": [
        "Any solution that groups by year and title will avoid this probem.  For example:"
      ]
    },
    {
      "cell_type": "code",
      "execution_count": null,
      "metadata": {
        "id": "mEY0oAiA979D",
        "outputId": "9ab8e524-f9bb-4fdc-fb06-359fa3e422af"
      },
      "outputs": [
        {
          "data": {
            "text/plain": [
              "year\n",
              "1910     1\n",
              "1911     6\n",
              "1913    21\n",
              "1921     9\n",
              "Name: character, dtype: int64"
            ]
          },
          "execution_count": 64,
          "metadata": {},
          "output_type": "execute_result"
        }
      ],
      "source": [
        "cgp1939= cast_pre_1939.groupby(['title','year'])['character'].count()\n",
        "cgp1939.loc[\"Hamlet\"]"
      ]
    },
    {
      "cell_type": "markdown",
      "metadata": {
        "id": "DzY1VXWR979D"
      },
      "source": [
        "These are the correct cast counts for versiuonbs of \"Hamlet\" made before 1939:"
      ]
    },
    {
      "cell_type": "markdown",
      "metadata": {
        "collapsed": true,
        "id": "hZuwsmmQ979D"
      },
      "source": [
        "### B.1 Of the films made in either 1939 or 1966, what films had a cast size of 90 or more but fewer than 100?\n",
        "\n",
        "\n",
        "After you've made a DataFrame containing the set of rows in `cast` that you're interested in,\n",
        "you again need to do a computation that's counts cast members on films.   There is a simple computation  that seems to give you the cast sizes of all films.\n",
        "\n",
        "But to answer this question correctly,  you will need to\n",
        "come up with a slightly more complicated answer. The issue to\n",
        "think about is remakes.  In fact in 1966 there were some remakes of\n",
        "great 1939 films.  How should that affect your answer to this\n",
        "problem?\n"
      ]
    },
    {
      "cell_type": "code",
      "execution_count": null,
      "metadata": {
        "id": "ZQUM2Ur9979E"
      },
      "outputs": [],
      "source": []
    },
    {
      "cell_type": "markdown",
      "metadata": {
        "id": "RWuQYRLV979E"
      },
      "source": [
        "###  B.2 * What character has been played the most times by a single actor in a starring role?"
      ]
    },
    {
      "cell_type": "code",
      "execution_count": null,
      "metadata": {
        "id": "BjTZDhfd979E"
      },
      "outputs": [],
      "source": []
    },
    {
      "cell_type": "markdown",
      "metadata": {
        "id": "uEtuMCFO979E"
      },
      "source": [
        "### B.3 Produce a pie  chart showing what percentages of all roles go to actors and actresses respectively (so, a two color pie chart)\n",
        "\n",
        "Note:  This can be done with a `.plot()` method called on a pandas `DataFrame` or `Series`.  See if you can figure out how to make that happen.   No pivot table or any grouping operation required."
      ]
    },
    {
      "cell_type": "code",
      "execution_count": null,
      "metadata": {
        "id": "gUy6H4ub979E"
      },
      "outputs": [],
      "source": []
    },
    {
      "cell_type": "markdown",
      "metadata": {
        "id": "9J16K0R-979E"
      },
      "source": [
        "### B.4  Plot the percentages of all roles that are female year by year for the century from 1917 through 2017\n",
        "\n",
        "You are continuing your study of the imbalance of male and female roles.  Years on the x-axis, one line tracking the percentage of female roles.\n",
        "\n",
        "This is Time Series data. Do a second plot that smooths this jiggly plot and **highlights the trend** by plotting the rolling  mean of the percentage of actress roles, using a 10 year window. Hint: Look at the `.rolling()` method.   Or even better, for extra glory, get both plots in the same subplot (the matplotlib term is \"the same axis\"). So you will have one pair of x,y axes and two lines in the plot, one a smoother version of the other."
      ]
    },
    {
      "cell_type": "markdown",
      "metadata": {
        "id": "etmtcd_C979E"
      },
      "source": [
        "###   B.5  * Among actresses who have roles in more than 3 decades, what actress has the largest average number of roles per decade?  What is that average number of roles?\n",
        "\n",
        "\n",
        "Here is an important wrinkle in computing averages.  We have data for 14 decades (1890s through 2020s).  For each actress, compute her average roles per decade by averaging only over decades in which she had roles. Consider, for example, the actress Grace Hayle, who had 104 roles in the 1930s and no roles in any other decade. Her average roles per decade should be 104, not 104/14. Of course that average isn't a candidate for the answer to this question, since she didn't have roles in more than 3 decades, but it helps illustrate the principle:  Don 't include decades in which an actress had no roles in computing her average number of roles per decade.\n",
        "\n"
      ]
    },
    {
      "cell_type": "markdown",
      "metadata": {
        "id": "E9SUiXHY979E"
      },
      "source": [
        "\n",
        "### C.1 A new dataset.  Load the word frequency data from the following URL.\n",
        "\n",
        "\n",
        "```python\n",
        "\"https://www.kilgarriff.co.uk/BNClists/lemma.num\"\n",
        "```\n",
        "\n",
        "This is frequency data compiled from the **British National Corpus**\n",
        "a balanced data set of English texts of\n",
        "about 100 million words. You should use the pandas function `read_csv` to read the\n",
        "tabular data from the above URL.  The DataFrame should have the following format,\n",
        "\n",
        "```\n",
        "\n",
        "   Word     Rank    Freq\t Pos\n",
        "\n",
        " 0  the\t      1\t   6187267\tdet\n",
        " 1  be\t      2\t   4239632\tv\n",
        "...\n",
        "```\n",
        "\n",
        "In other words, there should be four columns named \"Word\", \"Rank\", Freq\" and \"Pos\"\n",
        "(the order doesn't matter).  The display above shows the first two rows.  Make sure you\n",
        "don't lose any rows of data. This will take a small bit of tweaking of the\n",
        "arguments of `read_csv`.\n",
        "\n",
        "The counts in this data are **lemma** counts. The lemma of a word is\n",
        "the form used in its dictionary entry.  When we refer to\n",
        "lemma properties we are referring to properties that apply\n",
        "equally to all forms of a word, such as its meaning.   What that means for this\n",
        "data set is that the counts in the\n",
        "`\"Freq\"` column combine the counts of all forms of the word in the `\"Word\"` column.\n",
        "For example, the count for *be* in the second row combines\n",
        "the counts for all forms the verb *be*, including *is*, *are*, *was*, *were*, and\n",
        "*being*.\n",
        "\n",
        "\n",
        "**Answer the following question**.  Does the index provide a complete vocabulary list for\n",
        "all the  words in the BNC corpus, or has it been truncated in some way?  Why\n",
        "or why not?\n",
        "\n",
        "**Important note**:  If you have trouble getting this data loaded in the proper format, please ask for\n",
        "help.  The answers to all the following questions depend on getting this one right.  And you can;t even get partial credit for nthose questions without getting this one right."
      ]
    },
    {
      "cell_type": "code",
      "execution_count": null,
      "metadata": {
        "id": "ye6B2nXy979E"
      },
      "outputs": [],
      "source": []
    },
    {
      "cell_type": "markdown",
      "metadata": {
        "id": "ft3VtPdS979E"
      },
      "source": [
        "### C.2 Use the word frequency data just loaded to get the total word counts by part of speech (Pos)\n",
        "\n",
        "Note:  the numbers should mostly be in the millions.\n",
        "\n",
        "**Answer the following question**:  What part of speech occurs  the least number of times?"
      ]
    },
    {
      "cell_type": "code",
      "execution_count": null,
      "metadata": {
        "id": "06AdfKkv979F"
      },
      "outputs": [],
      "source": []
    },
    {
      "cell_type": "markdown",
      "metadata": {
        "id": "Ijndsg4l979F"
      },
      "source": [
        "### C.3 Using the word frequency data again, plot the rank versus the frequency\n",
        "\n",
        "Demonstrate something called **Zipf's Law** by using a log scale for both\n",
        "your x- and your y- axes.  Note:   This plot is pretty uninteresting\n",
        "if you don't do this."
      ]
    },
    {
      "cell_type": "code",
      "execution_count": null,
      "metadata": {
        "id": "Ukfaulop979F"
      },
      "outputs": [],
      "source": []
    },
    {
      "cell_type": "markdown",
      "metadata": {
        "id": "Zq09kjme979F"
      },
      "source": [
        "### C.4 * Using the BNC word frequency data again, find the word with the most parts of speech.  What are those parts of speech?\n",
        "\n",
        "Some words can have multiple parts of speech and their different frequency statistics will\n",
        "vary according to which part of speech they occur with.  For example\n",
        "\n",
        "```\n",
        ">>>  freq_df[freq_df[\"Word\"] == \"record\"]\n",
        "    \n",
        "    Rank   Freq    Word    Pos\n",
        "523 524    19639   record   n\n",
        "977 978    10315   record   v\n",
        "```\n",
        "\n",
        "The noun lemma *record* occurs, for example, in sentences like *He still holds the world record for the\n",
        "High Jump.*, while the verb lemma occurs in sentences like *They will record your interview.*\n",
        "Notice that the pronunciation changes (that doesn't always happen when the part of speech changes).\n",
        "So the word \"record\" has two parts of speech in the `freq_df` table.  This question is asking to you find the word with the most parts of speech in the `freq_df` table and list those parts of speech."
      ]
    },
    {
      "cell_type": "code",
      "execution_count": null,
      "metadata": {
        "id": "mDN7IRC0979F"
      },
      "outputs": [],
      "source": []
    },
    {
      "cell_type": "markdown",
      "metadata": {
        "id": "atMdxn69979F"
      },
      "source": [
        "### C.5  Using the BNC word frequency data again, find all words that can be both verbs and nouns and count them.  What percentage of nouns can also be verbs?"
      ]
    },
    {
      "cell_type": "code",
      "execution_count": null,
      "metadata": {
        "id": "iZJceEud979F"
      },
      "outputs": [],
      "source": []
    }
  ],
  "metadata": {
    "kernelspec": {
      "display_name": "Python 3 (ipykernel)",
      "language": "python",
      "name": "python3"
    },
    "language_info": {
      "codemirror_mode": {
        "name": "ipython",
        "version": 3
      },
      "file_extension": ".py",
      "mimetype": "text/x-python",
      "name": "python",
      "nbconvert_exporter": "python",
      "pygments_lexer": "ipython3",
      "version": "3.12.5"
    },
    "colab": {
      "provenance": [],
      "include_colab_link": true
    }
  },
  "nbformat": 4,
  "nbformat_minor": 0
}