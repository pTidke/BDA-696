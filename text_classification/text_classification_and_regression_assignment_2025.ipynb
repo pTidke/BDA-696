{
  "cells": [
    {
      "cell_type": "markdown",
      "id": "e1147747",
      "metadata": {
        "id": "e1147747"
      },
      "source": [
        "## Millikan electron experiment (Regression, Newman Computational Physics, Exc 3.8  p.123 )\n",
        "\n",
        "This is worth 3 points.\n",
        "\n",
        "The whole source of excitement about the photolectric effect was that it is governed by a very simple equation, whose verification turned out to be very strong evidence that light consists of particles (let's call them photons).\n",
        "\n",
        "\n",
        "$$\n",
        "\\text{V} = \\frac{h}{e} \\nu - \\Phi\n",
        "$$\n",
        "\n",
        "Read this as V (Voltage) = $\\frac{h}{e}$ (Planck's Constant divided by the charge of an electron) times\n",
        "$\\nu$ (the frequency of the light) minus $\\Phi$ (known as the work function of the surface).\n",
        "So an electron gets kicked up from the surface by a photon, loses a little energy ($\\Phi$)\n",
        "because it takes some work to pry it loose, and then has energy (V) proportional to the\n",
        "light's wavelength.\n",
        "\n",
        "The experimental setup was such that the work function of the surface was constant throughout  the experiment.\n",
        "\n",
        "Here is Millikan's data, measuring the voltage produced by single photons of light\n",
        "at various frequencies. He won the Nobel Prize for these results, which confirmed\n",
        "predictions made in Einstein's 1905 work on the photoelectric effect, for which Einstein also\n",
        "won the Nobel Prize.\n"
      ]
    },
    {
      "cell_type": "code",
      "execution_count": 15,
      "id": "ac3212d1",
      "metadata": {
        "id": "ac3212d1"
      },
      "outputs": [],
      "source": [
        "import pandas as pd\n",
        "\n",
        "github_url ='https://raw.githubusercontent.com/gawron/python-for-social-science/master/'\n",
        "data_path = 'text_classification/data/'\n",
        "url_dir = github_url + data_path\n",
        "data_file = \"millikan.txt\"\n",
        "\n",
        "###############################################################################\n",
        "#\n",
        "#                    D a t a\n",
        "#\n",
        "###############################################################################\n",
        "e_charge = 1.602e-19\n",
        "df = pd.read_csv(url_dir + data_file,header=None,delimiter= \" \",names=(\"Frequency\",\"Voltage\"))"
      ]
    },
    {
      "cell_type": "code",
      "execution_count": 16,
      "id": "62948822",
      "metadata": {
        "scrolled": true,
        "colab": {
          "base_uri": "https://localhost:8080/",
          "height": 238
        },
        "id": "62948822",
        "outputId": "07ae0b35-d6fb-4156-8af3-5e1fb336d1bd"
      },
      "outputs": [
        {
          "output_type": "execute_result",
          "data": {
            "text/plain": [
              "      Frequency  Voltage\n",
              "0  5.487400e+14  0.53090\n",
              "1  6.931000e+14  1.08420\n",
              "2  7.430700e+14  1.27340\n",
              "3  8.219300e+14  1.65980\n",
              "4  9.607400e+14  2.19856\n",
              "5  1.184000e+15  3.10891"
            ],
            "text/html": [
              "\n",
              "  <div id=\"df-69f4925e-51f7-4138-bdf0-492d34fc40a4\" class=\"colab-df-container\">\n",
              "    <div>\n",
              "<style scoped>\n",
              "    .dataframe tbody tr th:only-of-type {\n",
              "        vertical-align: middle;\n",
              "    }\n",
              "\n",
              "    .dataframe tbody tr th {\n",
              "        vertical-align: top;\n",
              "    }\n",
              "\n",
              "    .dataframe thead th {\n",
              "        text-align: right;\n",
              "    }\n",
              "</style>\n",
              "<table border=\"1\" class=\"dataframe\">\n",
              "  <thead>\n",
              "    <tr style=\"text-align: right;\">\n",
              "      <th></th>\n",
              "      <th>Frequency</th>\n",
              "      <th>Voltage</th>\n",
              "    </tr>\n",
              "  </thead>\n",
              "  <tbody>\n",
              "    <tr>\n",
              "      <th>0</th>\n",
              "      <td>5.487400e+14</td>\n",
              "      <td>0.53090</td>\n",
              "    </tr>\n",
              "    <tr>\n",
              "      <th>1</th>\n",
              "      <td>6.931000e+14</td>\n",
              "      <td>1.08420</td>\n",
              "    </tr>\n",
              "    <tr>\n",
              "      <th>2</th>\n",
              "      <td>7.430700e+14</td>\n",
              "      <td>1.27340</td>\n",
              "    </tr>\n",
              "    <tr>\n",
              "      <th>3</th>\n",
              "      <td>8.219300e+14</td>\n",
              "      <td>1.65980</td>\n",
              "    </tr>\n",
              "    <tr>\n",
              "      <th>4</th>\n",
              "      <td>9.607400e+14</td>\n",
              "      <td>2.19856</td>\n",
              "    </tr>\n",
              "    <tr>\n",
              "      <th>5</th>\n",
              "      <td>1.184000e+15</td>\n",
              "      <td>3.10891</td>\n",
              "    </tr>\n",
              "  </tbody>\n",
              "</table>\n",
              "</div>\n",
              "    <div class=\"colab-df-buttons\">\n",
              "\n",
              "  <div class=\"colab-df-container\">\n",
              "    <button class=\"colab-df-convert\" onclick=\"convertToInteractive('df-69f4925e-51f7-4138-bdf0-492d34fc40a4')\"\n",
              "            title=\"Convert this dataframe to an interactive table.\"\n",
              "            style=\"display:none;\">\n",
              "\n",
              "  <svg xmlns=\"http://www.w3.org/2000/svg\" height=\"24px\" viewBox=\"0 -960 960 960\">\n",
              "    <path d=\"M120-120v-720h720v720H120Zm60-500h600v-160H180v160Zm220 220h160v-160H400v160Zm0 220h160v-160H400v160ZM180-400h160v-160H180v160Zm440 0h160v-160H620v160ZM180-180h160v-160H180v160Zm440 0h160v-160H620v160Z\"/>\n",
              "  </svg>\n",
              "    </button>\n",
              "\n",
              "  <style>\n",
              "    .colab-df-container {\n",
              "      display:flex;\n",
              "      gap: 12px;\n",
              "    }\n",
              "\n",
              "    .colab-df-convert {\n",
              "      background-color: #E8F0FE;\n",
              "      border: none;\n",
              "      border-radius: 50%;\n",
              "      cursor: pointer;\n",
              "      display: none;\n",
              "      fill: #1967D2;\n",
              "      height: 32px;\n",
              "      padding: 0 0 0 0;\n",
              "      width: 32px;\n",
              "    }\n",
              "\n",
              "    .colab-df-convert:hover {\n",
              "      background-color: #E2EBFA;\n",
              "      box-shadow: 0px 1px 2px rgba(60, 64, 67, 0.3), 0px 1px 3px 1px rgba(60, 64, 67, 0.15);\n",
              "      fill: #174EA6;\n",
              "    }\n",
              "\n",
              "    .colab-df-buttons div {\n",
              "      margin-bottom: 4px;\n",
              "    }\n",
              "\n",
              "    [theme=dark] .colab-df-convert {\n",
              "      background-color: #3B4455;\n",
              "      fill: #D2E3FC;\n",
              "    }\n",
              "\n",
              "    [theme=dark] .colab-df-convert:hover {\n",
              "      background-color: #434B5C;\n",
              "      box-shadow: 0px 1px 3px 1px rgba(0, 0, 0, 0.15);\n",
              "      filter: drop-shadow(0px 1px 2px rgba(0, 0, 0, 0.3));\n",
              "      fill: #FFFFFF;\n",
              "    }\n",
              "  </style>\n",
              "\n",
              "    <script>\n",
              "      const buttonEl =\n",
              "        document.querySelector('#df-69f4925e-51f7-4138-bdf0-492d34fc40a4 button.colab-df-convert');\n",
              "      buttonEl.style.display =\n",
              "        google.colab.kernel.accessAllowed ? 'block' : 'none';\n",
              "\n",
              "      async function convertToInteractive(key) {\n",
              "        const element = document.querySelector('#df-69f4925e-51f7-4138-bdf0-492d34fc40a4');\n",
              "        const dataTable =\n",
              "          await google.colab.kernel.invokeFunction('convertToInteractive',\n",
              "                                                    [key], {});\n",
              "        if (!dataTable) return;\n",
              "\n",
              "        const docLinkHtml = 'Like what you see? Visit the ' +\n",
              "          '<a target=\"_blank\" href=https://colab.research.google.com/notebooks/data_table.ipynb>data table notebook</a>'\n",
              "          + ' to learn more about interactive tables.';\n",
              "        element.innerHTML = '';\n",
              "        dataTable['output_type'] = 'display_data';\n",
              "        await google.colab.output.renderOutput(dataTable, element);\n",
              "        const docLink = document.createElement('div');\n",
              "        docLink.innerHTML = docLinkHtml;\n",
              "        element.appendChild(docLink);\n",
              "      }\n",
              "    </script>\n",
              "  </div>\n",
              "\n",
              "\n",
              "    <div id=\"df-af7517a7-e61b-4407-bd1f-b8727af0119e\">\n",
              "      <button class=\"colab-df-quickchart\" onclick=\"quickchart('df-af7517a7-e61b-4407-bd1f-b8727af0119e')\"\n",
              "                title=\"Suggest charts\"\n",
              "                style=\"display:none;\">\n",
              "\n",
              "<svg xmlns=\"http://www.w3.org/2000/svg\" height=\"24px\"viewBox=\"0 0 24 24\"\n",
              "     width=\"24px\">\n",
              "    <g>\n",
              "        <path d=\"M19 3H5c-1.1 0-2 .9-2 2v14c0 1.1.9 2 2 2h14c1.1 0 2-.9 2-2V5c0-1.1-.9-2-2-2zM9 17H7v-7h2v7zm4 0h-2V7h2v10zm4 0h-2v-4h2v4z\"/>\n",
              "    </g>\n",
              "</svg>\n",
              "      </button>\n",
              "\n",
              "<style>\n",
              "  .colab-df-quickchart {\n",
              "      --bg-color: #E8F0FE;\n",
              "      --fill-color: #1967D2;\n",
              "      --hover-bg-color: #E2EBFA;\n",
              "      --hover-fill-color: #174EA6;\n",
              "      --disabled-fill-color: #AAA;\n",
              "      --disabled-bg-color: #DDD;\n",
              "  }\n",
              "\n",
              "  [theme=dark] .colab-df-quickchart {\n",
              "      --bg-color: #3B4455;\n",
              "      --fill-color: #D2E3FC;\n",
              "      --hover-bg-color: #434B5C;\n",
              "      --hover-fill-color: #FFFFFF;\n",
              "      --disabled-bg-color: #3B4455;\n",
              "      --disabled-fill-color: #666;\n",
              "  }\n",
              "\n",
              "  .colab-df-quickchart {\n",
              "    background-color: var(--bg-color);\n",
              "    border: none;\n",
              "    border-radius: 50%;\n",
              "    cursor: pointer;\n",
              "    display: none;\n",
              "    fill: var(--fill-color);\n",
              "    height: 32px;\n",
              "    padding: 0;\n",
              "    width: 32px;\n",
              "  }\n",
              "\n",
              "  .colab-df-quickchart:hover {\n",
              "    background-color: var(--hover-bg-color);\n",
              "    box-shadow: 0 1px 2px rgba(60, 64, 67, 0.3), 0 1px 3px 1px rgba(60, 64, 67, 0.15);\n",
              "    fill: var(--button-hover-fill-color);\n",
              "  }\n",
              "\n",
              "  .colab-df-quickchart-complete:disabled,\n",
              "  .colab-df-quickchart-complete:disabled:hover {\n",
              "    background-color: var(--disabled-bg-color);\n",
              "    fill: var(--disabled-fill-color);\n",
              "    box-shadow: none;\n",
              "  }\n",
              "\n",
              "  .colab-df-spinner {\n",
              "    border: 2px solid var(--fill-color);\n",
              "    border-color: transparent;\n",
              "    border-bottom-color: var(--fill-color);\n",
              "    animation:\n",
              "      spin 1s steps(1) infinite;\n",
              "  }\n",
              "\n",
              "  @keyframes spin {\n",
              "    0% {\n",
              "      border-color: transparent;\n",
              "      border-bottom-color: var(--fill-color);\n",
              "      border-left-color: var(--fill-color);\n",
              "    }\n",
              "    20% {\n",
              "      border-color: transparent;\n",
              "      border-left-color: var(--fill-color);\n",
              "      border-top-color: var(--fill-color);\n",
              "    }\n",
              "    30% {\n",
              "      border-color: transparent;\n",
              "      border-left-color: var(--fill-color);\n",
              "      border-top-color: var(--fill-color);\n",
              "      border-right-color: var(--fill-color);\n",
              "    }\n",
              "    40% {\n",
              "      border-color: transparent;\n",
              "      border-right-color: var(--fill-color);\n",
              "      border-top-color: var(--fill-color);\n",
              "    }\n",
              "    60% {\n",
              "      border-color: transparent;\n",
              "      border-right-color: var(--fill-color);\n",
              "    }\n",
              "    80% {\n",
              "      border-color: transparent;\n",
              "      border-right-color: var(--fill-color);\n",
              "      border-bottom-color: var(--fill-color);\n",
              "    }\n",
              "    90% {\n",
              "      border-color: transparent;\n",
              "      border-bottom-color: var(--fill-color);\n",
              "    }\n",
              "  }\n",
              "</style>\n",
              "\n",
              "      <script>\n",
              "        async function quickchart(key) {\n",
              "          const quickchartButtonEl =\n",
              "            document.querySelector('#' + key + ' button');\n",
              "          quickchartButtonEl.disabled = true;  // To prevent multiple clicks.\n",
              "          quickchartButtonEl.classList.add('colab-df-spinner');\n",
              "          try {\n",
              "            const charts = await google.colab.kernel.invokeFunction(\n",
              "                'suggestCharts', [key], {});\n",
              "          } catch (error) {\n",
              "            console.error('Error during call to suggestCharts:', error);\n",
              "          }\n",
              "          quickchartButtonEl.classList.remove('colab-df-spinner');\n",
              "          quickchartButtonEl.classList.add('colab-df-quickchart-complete');\n",
              "        }\n",
              "        (() => {\n",
              "          let quickchartButtonEl =\n",
              "            document.querySelector('#df-af7517a7-e61b-4407-bd1f-b8727af0119e button');\n",
              "          quickchartButtonEl.style.display =\n",
              "            google.colab.kernel.accessAllowed ? 'block' : 'none';\n",
              "        })();\n",
              "      </script>\n",
              "    </div>\n",
              "\n",
              "  <div id=\"id_09109759-24ad-4977-899e-7e2245e7df18\">\n",
              "    <style>\n",
              "      .colab-df-generate {\n",
              "        background-color: #E8F0FE;\n",
              "        border: none;\n",
              "        border-radius: 50%;\n",
              "        cursor: pointer;\n",
              "        display: none;\n",
              "        fill: #1967D2;\n",
              "        height: 32px;\n",
              "        padding: 0 0 0 0;\n",
              "        width: 32px;\n",
              "      }\n",
              "\n",
              "      .colab-df-generate:hover {\n",
              "        background-color: #E2EBFA;\n",
              "        box-shadow: 0px 1px 2px rgba(60, 64, 67, 0.3), 0px 1px 3px 1px rgba(60, 64, 67, 0.15);\n",
              "        fill: #174EA6;\n",
              "      }\n",
              "\n",
              "      [theme=dark] .colab-df-generate {\n",
              "        background-color: #3B4455;\n",
              "        fill: #D2E3FC;\n",
              "      }\n",
              "\n",
              "      [theme=dark] .colab-df-generate:hover {\n",
              "        background-color: #434B5C;\n",
              "        box-shadow: 0px 1px 3px 1px rgba(0, 0, 0, 0.15);\n",
              "        filter: drop-shadow(0px 1px 2px rgba(0, 0, 0, 0.3));\n",
              "        fill: #FFFFFF;\n",
              "      }\n",
              "    </style>\n",
              "    <button class=\"colab-df-generate\" onclick=\"generateWithVariable('df')\"\n",
              "            title=\"Generate code using this dataframe.\"\n",
              "            style=\"display:none;\">\n",
              "\n",
              "  <svg xmlns=\"http://www.w3.org/2000/svg\" height=\"24px\"viewBox=\"0 0 24 24\"\n",
              "       width=\"24px\">\n",
              "    <path d=\"M7,19H8.4L18.45,9,17,7.55,7,17.6ZM5,21V16.75L18.45,3.32a2,2,0,0,1,2.83,0l1.4,1.43a1.91,1.91,0,0,1,.58,1.4,1.91,1.91,0,0,1-.58,1.4L9.25,21ZM18.45,9,17,7.55Zm-12,3A5.31,5.31,0,0,0,4.9,8.1,5.31,5.31,0,0,0,1,6.5,5.31,5.31,0,0,0,4.9,4.9,5.31,5.31,0,0,0,6.5,1,5.31,5.31,0,0,0,8.1,4.9,5.31,5.31,0,0,0,12,6.5,5.46,5.46,0,0,0,6.5,12Z\"/>\n",
              "  </svg>\n",
              "    </button>\n",
              "    <script>\n",
              "      (() => {\n",
              "      const buttonEl =\n",
              "        document.querySelector('#id_09109759-24ad-4977-899e-7e2245e7df18 button.colab-df-generate');\n",
              "      buttonEl.style.display =\n",
              "        google.colab.kernel.accessAllowed ? 'block' : 'none';\n",
              "\n",
              "      buttonEl.onclick = () => {\n",
              "        google.colab.notebook.generateWithVariable('df');\n",
              "      }\n",
              "      })();\n",
              "    </script>\n",
              "  </div>\n",
              "\n",
              "    </div>\n",
              "  </div>\n"
            ],
            "application/vnd.google.colaboratory.intrinsic+json": {
              "type": "dataframe",
              "variable_name": "df",
              "summary": "{\n  \"name\": \"df\",\n  \"rows\": 6,\n  \"fields\": [\n    {\n      \"column\": \"Frequency\",\n      \"properties\": {\n        \"dtype\": \"number\",\n        \"std\": 222596082145815.56,\n        \"min\": 548740000000000.0,\n        \"max\": 1184000000000000.0,\n        \"num_unique_values\": 6,\n        \"samples\": [\n          548740000000000.0,\n          693100000000000.0,\n          1184000000000000.0\n        ],\n        \"semantic_type\": \"\",\n        \"description\": \"\"\n      }\n    },\n    {\n      \"column\": \"Voltage\",\n      \"properties\": {\n        \"dtype\": \"number\",\n        \"std\": 0.9103239492492036,\n        \"min\": 0.5309,\n        \"max\": 3.10891,\n        \"num_unique_values\": 6,\n        \"samples\": [\n          0.5309,\n          1.0842,\n          3.10891\n        ],\n        \"semantic_type\": \"\",\n        \"description\": \"\"\n      }\n    }\n  ]\n}"
            }
          },
          "metadata": {},
          "execution_count": 16
        }
      ],
      "source": [
        "df"
      ]
    },
    {
      "cell_type": "markdown",
      "id": "e81cb910",
      "metadata": {
        "id": "e81cb910"
      },
      "source": [
        "1.  The equation says the Frequency and the voltage should be related by a linear relation. Assuming the data do obey this linear relation, use Scikit learn's linear regression implementation to find $\\frac{h}{e}$ and $\\Phi$ from these data points.  \n",
        "\n",
        "2.  Then given that the charge of an electron  is $1.602e^{-19}$, estimate Planck's constant. This is one of the most important constants in Physics.  Look it up to see how good your estimate is.  Compute your percentage of error.\n",
        "\n",
        "3.  Draw a scatter plot of the 6 data points.  Use the results of your linear regression to plot the  line that is the best fit to these points in the same plot.  You will need to make a fairly arbitrary decision about the aspect of the figure (ratio of height to width), since the x and y axis represent different units with very different orders of magnitude.\n",
        "\n",
        "4.  What is the value of $\\Phi$?  Hint:  It's work.  It shouldn't be negative."
      ]
    },
    {
      "cell_type": "code",
      "source": [
        "import pandas as pd\n",
        "import numpy as np\n",
        "import matplotlib.pyplot as plt\n",
        "from sklearn.linear_model import LinearRegression\n",
        "\n",
        "# Load the data\n",
        "github_url = 'https://raw.githubusercontent.com/gawron/python-for-social-science/master/'\n",
        "data_path = 'text_classification/data/'\n",
        "url_dir = github_url + data_path\n",
        "data_file = \"millikan.txt\"\n",
        "e_charge = 1.602e-19  # Charge of an electron in Coulombs\n",
        "\n",
        "df = pd.read_csv(url_dir + data_file, header=None, delimiter=\" \", names=(\"Frequency\", \"Voltage\"))\n",
        "\n",
        "# Prepare data for regression\n",
        "X = df[[\"Frequency\"]].values  # Frequency in Hz\n",
        "y = df[\"Voltage\"].values      # Voltage in Volts\n",
        "\n",
        "# Perform linear regression\n",
        "model = LinearRegression()\n",
        "model.fit(X, y)\n",
        "\n",
        "# Get slope (h/e) and intercept (-Phi)\n",
        "slope = model.coef_[0]\n",
        "intercept = model.intercept_\n",
        "\n",
        "# Calculate Planck's constant (h = slope * e)\n",
        "h_estimated = slope * e_charge\n",
        "\n",
        "# Calculate work function (Phi = -intercept)\n",
        "phi_estimated = -intercept\n",
        "\n",
        "# Accepted Planck's constant\n",
        "h_accepted = 6.626e-34\n",
        "\n",
        "# Calculate percentage error\n",
        "percentage_error = abs((h_estimated - h_accepted) / h_accepted) * 100\n",
        "\n",
        "# Print results\n",
        "print(f\"Estimated Planck's constant: {h_estimated:.4e} J·s\")\n",
        "print(f\"Accepted Planck's constant: {h_accepted:.4e} J·s\")\n",
        "print(f\"Percentage error: {percentage_error:.2f}%\")\n",
        "print(f\"Estimated work function (Φ): {phi_estimated:.4f} eV\")\n",
        "\n",
        "# Plot the data and the best-fit line\n",
        "plt.figure(figsize=(10, 6))\n",
        "plt.scatter(X, y, color='blue', label='Data points')\n",
        "plt.plot(X, model.predict(X), color='red', label='Best-fit line')\n",
        "plt.xlabel('Frequency (Hz)')\n",
        "plt.ylabel('Voltage (V)')\n",
        "plt.title('Millikan\\'s Photoelectric Effect Data')\n",
        "plt.legend()\n",
        "plt.grid()\n",
        "plt.show()"
      ],
      "metadata": {
        "colab": {
          "base_uri": "https://localhost:8080/",
          "height": 633
        },
        "id": "Ma7LuTMAc1Tt",
        "outputId": "844579df-a738-4fe7-90b0-da6610a60b44"
      },
      "id": "Ma7LuTMAc1Tt",
      "execution_count": 19,
      "outputs": [
        {
          "output_type": "stream",
          "name": "stdout",
          "text": [
            "Estimated Planck's constant: 6.5493e-34 J·s\n",
            "Accepted Planck's constant: 6.6260e-34 J·s\n",
            "Percentage error: 1.16%\n",
            "Estimated work function (Φ): 1.7312 eV\n"
          ]
        },
        {
          "output_type": "display_data",
          "data": {
            "text/plain": [
              "<Figure size 1000x600 with 1 Axes>"
            ],
            "image/png": "[encoded data removed]"
          },
          "metadata": {}
        }
      ]
    },
    {
      "cell_type": "markdown",
      "id": "f87581c8",
      "metadata": {
        "id": "f87581c8"
      },
      "source": [
        "## 1985 Auto Imports Database  Exercise  (Regression)\n"
      ]
    },
    {
      "cell_type": "markdown",
      "id": "8aa83a09",
      "metadata": {
        "id": "8aa83a09"
      },
      "source": [
        "This problem is worth 7 points."
      ]
    },
    {
      "cell_type": "markdown",
      "id": "f560b278",
      "metadata": {
        "id": "f560b278"
      },
      "source": [
        "UCI Data sets\n",
        "\n",
        "Schlimmer, J. (1985). Automobile Dataset. UCI Machine Learning Repository. https://doi.org/10.24432/C5B01C.\n",
        "\n",
        "-- Creator/Donor: Jeffrey C. Schlimmer (Jeffrey.Schlimmer@a.gp.cs.cmu.edu)\n",
        "-- Date: 19 May 1987\n",
        "-- Sources:\n",
        "\n",
        "     1) 1985 Model Import Car and Truck Specifications, 1985 Ward's\n",
        "        Automotive Yearbook.\n",
        "     2) Personal Auto Manuals, Insurance Services Office, 160 Water\n",
        "        Street, New York, NY 10038\n",
        "     3) Insurance Collision Report, Insurance Institute for Highway\n",
        "        Safety, Watergate 600, Washington, DC 20037\n"
      ]
    },
    {
      "cell_type": "markdown",
      "id": "b037b83b",
      "metadata": {
        "id": "b037b83b"
      },
      "source": [
        "This exercise involves a technique called **cross-validation**: k-fold cross-validation means\n",
        "that you do k different train test splits, each time using a different portion of the data for the\n",
        "test set.  The way this typically works is that by the end of the k splits, each item in the dataset\n",
        "has had a chance to be in the test set (that's the way the scikit_learn `KFold` function works).\n",
        "Intuitively this means that if there are items in the data that are particularly hard, the learner will\n",
        "get a crack at predicting those items without having seen them during training.\n",
        "\n",
        "Here is how cross validation on a small dataset of size 7 works if we require there to\n",
        "be 7 splits:"
      ]
    },
    {
      "cell_type": "code",
      "execution_count": 3,
      "id": "57559705",
      "metadata": {
        "colab": {
          "base_uri": "https://localhost:8080/"
        },
        "id": "57559705",
        "outputId": "565457eb-34e2-439a-ae73-93b1a542b4fa"
      },
      "outputs": [
        {
          "output_type": "stream",
          "name": "stdout",
          "text": [
            "Fold 0:\n",
            "  Train: indices = [1 2 3 4 5 6]\n",
            "  Test:  indices = [0]\n",
            "Fold 1:\n",
            "  Train: indices = [0 2 3 4 5 6]\n",
            "  Test:  indices = [1]\n",
            "Fold 2:\n",
            "  Train: indices = [0 1 3 4 5 6]\n",
            "  Test:  indices = [2]\n",
            "Fold 3:\n",
            "  Train: indices = [0 1 2 4 5 6]\n",
            "  Test:  indices = [3]\n",
            "Fold 4:\n",
            "  Train: indices = [0 1 2 3 5 6]\n",
            "  Test:  indices = [4]\n",
            "Fold 5:\n",
            "  Train: indices = [0 1 2 3 4 6]\n",
            "  Test:  indices = [5]\n",
            "Fold 6:\n",
            "  Train: indices = [0 1 2 3 4 5]\n",
            "  Test:  indices = [6]\n"
          ]
        }
      ],
      "source": [
        "import numpy as np\n",
        "from sklearn.model_selection import KFold\n",
        "X = np.array([[1, 2], [3, 4], [5, 6], [7, 8], [3, 4], [5, 6],[7,5]])\n",
        "y = np.array([1, 2, 1, 2, 1, 2, 2])\n",
        "rs = KFold(n_splits=7)\n",
        "\n",
        "for i, (train_index, test_index) in enumerate(rs.split(X)):\n",
        "    print(f\"Fold {i}:\")\n",
        "    print(f\"  Train: indices = {train_index}\")\n",
        "    print(f\"  Test:  indices = {test_index}\")"
      ]
    },
    {
      "cell_type": "markdown",
      "id": "8425edf9",
      "metadata": {
        "id": "8425edf9"
      },
      "source": [
        "**General idea of the assignment: Reproduce the regression result from Kibler et al.**\n",
        "\n",
        "Kibler, D., Aha, D. W., & Albert, M. (1989).  Instance-based prediction of real-valued attributes.  *Computational Intelligence 5* pp.  51--57.\n",
        "\n",
        "**Predicted price of car using all Numeric and Boolean attributes.**\n",
        "\n",
        "Their Method: an instance-based learning (IBL) algorithm derived from a localized k-nearest neighbor algorithm. You won't build the IBL system.  You will just implement the system they  compared it with: a standard  linear regression model. Note that they discarded all instances with missing attribute values.  You should do the same.  This resulted in a training set of 159 instances.\n",
        "\n",
        "The Idea: Train 159 models. In each case, train with 158 instances.  Predict the price of  the  159th instance and save that in an array called `predictions`.  Each time you train,. a different row of the data should be held out. to be used as test data; scikit learn's KFold should help.\n",
        "\n",
        "\n",
        "Results:\n",
        "\n",
        "Percent Average Deviation Error, also known as MAPE (\"mean absolute percentage error\")  of Prediction from Actual\n",
        "\n",
        "1. 11.84% for the IBL algorithm\n",
        "2. 14.12% for the resulting linear regression equation"
      ]
    },
    {
      "cell_type": "markdown",
      "id": "bebb9caf",
      "metadata": {
        "id": "bebb9caf"
      },
      "source": [
        "#### Attribute information"
      ]
    },
    {
      "cell_type": "markdown",
      "id": "a2b21ef4",
      "metadata": {
        "id": "a2b21ef4"
      },
      "source": [
        " 1. symboling:                -3, -2, -1, 0, 1, 2, 3.\n",
        "2. normalized-losses:        continuous from 65 to 256.\n",
        "3. make:                     alfa-romero, audi, bmw, chevrolet, dodge, honda,\n",
        "                           isuzu, jaguar, mazda, mercedes-benz, mercury,\n",
        "                           mitsubishi, nissan, peugot, plymouth, porsche,\n",
        "                           renault, saab, subaru, toyota, volkswagen, volvo\n",
        "4. fuel-type:                diesel, gas.\n",
        "5. aspiration:               std, turbo.\n",
        "6. num-of-doors:             four, two.\n",
        "7. body-style:               hardtop, wagon, sedan, hatchback, convertible.\n",
        "8. drive-wheels:             4wd, fwd, rwd.\n",
        "9. engine-location:          front, rear.\n",
        "10. wheel-base:               continuous from 86.6 120.9.\n",
        "11. length:                   continuous from 141.1 to 208.1.\n",
        "12. width:                    continuous from 60.3 to 72.3.\n",
        "13. height:                   continuous from 47.8 to 59.8.\n",
        "14. curb-weight:              continuous from 1488 to 4066.\n",
        "15. engine-type:              dohc, dohcv, l, ohc, ohcf, ohcv, rotor.\n",
        "16. num-of-cylinders:         eight, five, four, six, three, twelve, two.\n",
        "17. engine-size:              continuous from 61 to 326.\n",
        "18. fuel-system:              1bbl, 2bbl, 4bbl, idi, mfi, mpfi, spdi, spfi.\n",
        "19. bore:                     continuous from 2.54 to 3.94.\n",
        "20. stroke:                   continuous from 2.07 to 4.17.\n",
        "21. compression-ratio:        continuous from 7 to 23.\n",
        "22. horsepower:               continuous from 48 to 288.\n",
        "23. peak-rpm:                 continuous from 4150 to 6600.\n",
        "24. city-mpg:                 continuous from 13 to 49.\n",
        "25. highway-mpg:              continuous from 16 to 54.\n",
        "26. price:                    continuous from 5118 to 45400."
      ]
    },
    {
      "cell_type": "markdown",
      "id": "d6c079a7",
      "metadata": {
        "id": "d6c079a7"
      },
      "source": [
        "#### Missing values info\n",
        "\n",
        "Missing values are denoted by '?'.\n"
      ]
    },
    {
      "cell_type": "markdown",
      "id": "74737672",
      "metadata": {
        "id": "74737672"
      },
      "source": [
        "#### Loading the data"
      ]
    },
    {
      "cell_type": "code",
      "execution_count": 4,
      "id": "8555a89f",
      "metadata": {
        "id": "8555a89f"
      },
      "outputs": [],
      "source": [
        "import pandas as pd\n",
        "\n",
        "\n",
        "#import os\n",
        "#print(os.getcwd())\n",
        "\n",
        "\n",
        "\n",
        "cols = \"symboling normalized-losses make fuel-type aspiration num-of-doors body-style\" +\\\n",
        "       \" drive-wheels engine-location wheel-base length width height curb-weight\" +\\\n",
        "       \" engine-type num-of-cylinders engine-size fuel-system bore stroke\" +\\\n",
        "       \" compression-ratio horsepower peak-rpm city-mpg highway-mpg price\"\n",
        "cols = cols.split()\n",
        "\n",
        "data_file = \"imports-85.data\"\n",
        "df = pd.read_csv(url_dir + data_file,sep=\",\",header=None,names=cols)"
      ]
    },
    {
      "cell_type": "markdown",
      "id": "e899f5eb",
      "metadata": {
        "id": "e899f5eb"
      },
      "source": [
        "#### Instructions\n",
        "\n",
        "Build a regression model predict car price from other numeric and Boolean variables.  Here are some specific things to do:"
      ]
    },
    {
      "cell_type": "markdown",
      "id": "20d2bf6c",
      "metadata": {
        "id": "20d2bf6c"
      },
      "source": [
        "1.  Select the Numeric and Boolean attributes you will use.  Note that the data types  you get when you read in the data are inferred by pandas and they may not be correct. Think about whether the data types pandas uses for each column are appropriate for the information being represented in that column.  Also note: There are obviously no Boolean data types directly represented in the data, but you can create some Boolean type columns using `.str.get_dummies()`. For example, try executing `df[\"body-style\"].str.get_dummies()`.  This returns a Dataframe with the Boolean columns derived from the categorial `\"body_style\"` column. You use `pd.merge` to merge these new columns into `df`.\n",
        "2.  Do any data type conversions you need to do to use the attributes sensibly.  Note:\n",
        "    One of the best ways to do your type conversions is to do them while\n",
        "    reading in the data with `read_csv` (called above).  It is recommended that you\n",
        "    read the docs for function by googling \"pandas read_csv\".\n",
        "3.  Discard instances with missing values. Note that missing values are denoted by\n",
        "    '?', not a convention known to pandas.   Again \"read_csv\" can help.\n",
        "4.  Build a linear regression model to predict price. Since you are trying to reproduce\n",
        "    Kibler at al. you must do the training/test splits the way they do: Use all but one\n",
        "    row of data for training on each train-test split, with the held out row\n",
        "    used as test data. Do N train-test splits where N is the number of rows. A different\n",
        "    row should be held out each time (so you can't choose the held out row by random\n",
        "    selection).\n",
        "5.  Evaluation.  Compute root mean squared error.  Also compute Average\n",
        "    Deviation Error of Prediction from Actual (for comparison with Kibler et al.)  You can\n",
        "    use scikit_learn's `mean_absolute_percentage_error` for this.  Please pay attention to\n",
        "    the right argument order.  Call the 1D array of the predictions you made during your\n",
        "    159 train-test splits `predictions`. Conceptually, `predictions` and `df[\"price\"]` are\n",
        "    the arguments of `mean_absolute_percentage_error` (MAPE) and\n",
        "    `root_mean_squared_error` (RSME).  Note You should be able to build a linear regression\n",
        "    model that beats the 14.12% MAPE score for a regression model reported by\n",
        "    Kibler et al.\n",
        "6.  Try different feature sets. Is it sometimes a good idea to leave a feature out?\n",
        "    Yes! Report the results for your best model.  Note: you don't have to and should not\n",
        "    try all possible subsets of the columns of `df`.  Just try a model with all possible\n",
        "    numerical and Boolean columns as features and then look at ways to improve it by\n",
        "    pruning some columns/features.  You don't have to show all your experiments.\n",
        "    Just your best model. The code that produced it.  And the MAPE and RSME\n",
        "    scores for 159 predictions you made with that model (one model, two numbers).\n",
        "7.  For your best model report your most important positive feature (most likely to inflate price) and your\n",
        "    most important negative feature (most likely to lower price). Find the 5 features that matter the least\n",
        "    in determining price.\n",
        "8.  To help you interpret your results, implement and evaluate a baseline model\n",
        "    for comparison.  The baseline should always predict\n",
        "    the mean price of the entire data set.  Find\n",
        "    the MAPE and RSME for the baseline model.  How does the RSME of this baseline model\n",
        "    compare with the STD of the price column?\n",
        "9.  Optionally, try out sklearn's `linear_model.LogisticRegression` on the problem.  \n",
        "    To do this you   will need to scale the data using sklearn's\n",
        "    `preprocessing.StandardScaler`. Read [the\n",
        "    docs](https://scikit-learn.org/1.5/modules/preprocessing.html)\n",
        "    because this is implemented as an sklearn Transformer.  What effect does using\n",
        "    Logistic Regression have?"
      ]
    },
    {
      "cell_type": "markdown",
      "id": "c0b9c1ba",
      "metadata": {
        "id": "c0b9c1ba"
      },
      "source": [
        "Data types as read in by `read_csv`.  Recall that columns containing strings\n",
        "will by default be given the data type `object`."
      ]
    },
    {
      "cell_type": "code",
      "execution_count": null,
      "id": "dd7c1722",
      "metadata": {
        "scrolled": true,
        "id": "dd7c1722",
        "outputId": "a22f59ec-bf1f-4305-8ccc-0c3309f6cc31"
      },
      "outputs": [
        {
          "name": "stdout",
          "output_type": "stream",
          "text": [
            "<class 'pandas.core.frame.DataFrame'>\n",
            "RangeIndex: 205 entries, 0 to 204\n",
            "Data columns (total 26 columns):\n",
            " #   Column             Non-Null Count  Dtype  \n",
            "---  ------             --------------  -----  \n",
            " 0   symboling          205 non-null    int64  \n",
            " 1   normalized-losses  205 non-null    object \n",
            " 2   make               205 non-null    object \n",
            " 3   fuel-type          205 non-null    object \n",
            " 4   aspiration         205 non-null    object \n",
            " 5   num-of-doors       205 non-null    object \n",
            " 6   body-style         205 non-null    object \n",
            " 7   drive-wheels       205 non-null    object \n",
            " 8   engine-location    205 non-null    object \n",
            " 9   wheel-base         205 non-null    float64\n",
            " 10  length             205 non-null    float64\n",
            " 11  width              205 non-null    float64\n",
            " 12  height             205 non-null    float64\n",
            " 13  curb-weight        205 non-null    int64  \n",
            " 14  engine-type        205 non-null    object \n",
            " 15  num-of-cylinders   205 non-null    object \n",
            " 16  engine-size        205 non-null    int64  \n",
            " 17  fuel-system        205 non-null    object \n",
            " 18  bore               205 non-null    object \n",
            " 19  stroke             205 non-null    object \n",
            " 20  compression-ratio  205 non-null    float64\n",
            " 21  horsepower         205 non-null    object \n",
            " 22  peak-rpm           205 non-null    object \n",
            " 23  city-mpg           205 non-null    int64  \n",
            " 24  highway-mpg        205 non-null    int64  \n",
            " 25  price              205 non-null    object \n",
            "dtypes: float64(5), int64(5), object(16)\n",
            "memory usage: 41.8+ KB\n"
          ]
        }
      ],
      "source": [
        "df.info()"
      ]
    },
    {
      "cell_type": "code",
      "source": [
        "import pandas as pd\n",
        "import numpy as np\n",
        "from sklearn.linear_model import LinearRegression\n",
        "from sklearn.model_selection import LeaveOneOut\n",
        "from sklearn.metrics import mean_absolute_percentage_error, mean_squared_error\n",
        "\n",
        "cols = \"symboling normalized-losses make fuel-type aspiration num-of-doors body-style\" +\\\n",
        "       \" drive-wheels engine-location wheel-base length width height curb-weight\" +\\\n",
        "       \" engine-type num-of-cylinders engine-size fuel-system bore stroke\" +\\\n",
        "       \" compression-ratio horsepower peak-rpm city-mpg highway-mpg price\"\n",
        "cols = cols.split()\n",
        "\n",
        "data_file = \"imports-85.data\"\n",
        "df = pd.read_csv(url_dir + data_file,sep=\",\",header=None,names=cols,na_values='?')\n",
        "\n",
        "# 2. Drop rows with missing values\n",
        "df = df.dropna().reset_index(drop=True)\n",
        "\n",
        "# 3. Convert appropriate columns to numeric\n",
        "numeric_cols = [\n",
        "    'symboling', 'normalized-losses', 'wheel-base', 'length', 'width', 'height',\n",
        "    'curb-weight', 'engine-size', 'bore', 'stroke', 'compression-ratio',\n",
        "    'horsepower', 'peak-rpm', 'city-mpg', 'highway-mpg', 'price'\n",
        "]\n",
        "df[numeric_cols] = df[numeric_cols].apply(pd.to_numeric)\n",
        "\n",
        "# 4. One-hot encode all remaining categorical columns\n",
        "categorical_cols = [col for col in df.columns if df[col].dtype == 'object']\n",
        "df = pd.get_dummies(df, columns=categorical_cols, drop_first=True)\n",
        "\n",
        "# 5. Prepare feature matrix X and target vector y\n",
        "X = df.drop('price', axis=1).values\n",
        "y = df['price'].values\n",
        "\n",
        "# 6. Leave-One-Out Cross-Validation\n",
        "loo = LeaveOneOut()\n",
        "predictions = np.empty(len(y))\n",
        "\n",
        "for train_idx, test_idx in loo.split(X):\n",
        "    model = LinearRegression()\n",
        "    model.fit(X[train_idx], y[train_idx])\n",
        "    predictions[test_idx] = model.predict(X[test_idx])\n",
        "\n",
        "# 7. Evaluation Metrics for LOOCV model\n",
        "mape = mean_absolute_percentage_error(y, predictions) * 100  # in percentage\n",
        "mse = mean_squared_error(y, predictions)\n",
        "rmse = np.sqrt(mse)\n",
        "\n",
        "print(f'LOOCV Linear Regression MAPE: {mape:.2f}%')\n",
        "print(f'LOOCV Linear Regression RMSE: {rmse:.2f}')\n",
        "\n",
        "# 8. Baseline (mean predictor) for comparison\n",
        "baseline_pred = np.full_like(y, fill_value=y.mean())\n",
        "baseline_mape = mean_absolute_percentage_error(y, baseline_pred) * 100\n",
        "baseline_rmse = np.sqrt(mean_squared_error(y, baseline_pred))\n",
        "price_std = np.std(y)\n",
        "\n",
        "print(f'Baseline (mean) MAPE: {baseline_mape:.2f}%')\n",
        "print(f'Baseline (mean) RMSE: {baseline_rmse:.2f}')\n",
        "print(f'Price STD: {price_std:.2f}')\n",
        "\n",
        "# 9. Final model on all data to inspect coefficients\n",
        "final_model = LinearRegression()\n",
        "final_model.fit(X, y)\n",
        "coef = final_model.coef_\n",
        "features = df.drop('price', axis=1).columns\n",
        "\n",
        "coef_df = pd.DataFrame({\n",
        "    'feature': features,\n",
        "    'coefficient': coef\n",
        "}).sort_values(by='coefficient', key=lambda x: x.abs(), ascending=False).reset_index(drop=True)\n",
        "\n",
        "# Most positive and most negative features\n",
        "most_positive = coef_df.iloc[0]\n",
        "most_negative = coef_df.iloc[-1]\n",
        "least_important = coef_df.tail(5)\n",
        "\n",
        "print(\"\\nMost positive feature (inflates price):\")\n",
        "print(most_positive.to_dict())\n",
        "\n",
        "print(\"\\nMost negative feature (lowers price):\")\n",
        "print(most_negative.to_dict())\n",
        "\n",
        "print(\"\\nFive least important features:\")\n",
        "print(least_important[['feature', 'coefficient']])"
      ],
      "metadata": {
        "colab": {
          "base_uri": "https://localhost:8080/"
        },
        "id": "qba0xSADZWGn",
        "outputId": "df0e658d-e322-4044-e7fe-8c07c79b4b76"
      },
      "id": "qba0xSADZWGn",
      "execution_count": 9,
      "outputs": [
        {
          "output_type": "stream",
          "name": "stdout",
          "text": [
            "LOOCV Linear Regression MAPE: 11.42%\n",
            "LOOCV Linear Regression RMSE: 1652.87\n",
            "Baseline (mean) MAPE: 43.40%\n",
            "Baseline (mean) RMSE: 5859.34\n",
            "Price STD: 5859.34\n",
            "\n",
            "Most positive feature (inflates price):\n",
            "{'feature': 'make_mitsubishi', 'coefficient': -6327.595985053161}\n",
            "\n",
            "Most negative feature (lowers price):\n",
            "{'feature': 'peak-rpm', 'coefficient': -0.5376673825197145}\n",
            "\n",
            "Five least important features:\n",
            "              feature  coefficient\n",
            "49        engine-size   -12.438327\n",
            "50  normalized-losses     5.577457\n",
            "51        curb-weight     5.208202\n",
            "52          symboling    -5.067821\n",
            "53           peak-rpm    -0.537667\n"
          ]
        }
      ]
    },
    {
      "cell_type": "markdown",
      "source": [
        "The baseline RMSE (5 859.34) is exactly equal to the standard deviation of the price column (5 859.34). This is expected, since always predicting the mean yields an RMSE equal to the target's STD."
      ],
      "metadata": {
        "id": "buVYgEU5g3Vq"
      },
      "id": "buVYgEU5g3Vq"
    },
    {
      "cell_type": "code",
      "source": [
        "# Logistic Regression with continuous‐error metrics (MAPE & RMSE)\n",
        "import numpy as np\n",
        "import pandas as pd\n",
        "from sklearn.preprocessing import StandardScaler\n",
        "from sklearn.linear_model import LogisticRegression\n",
        "from sklearn.model_selection import LeaveOneOut\n",
        "from sklearn.metrics import mean_absolute_percentage_error, mean_squared_error\n",
        "\n",
        "# — assume df, X, and y are already defined as in the previous block —\n",
        "\n",
        "# 1. Bin the continuous price into 2 quantile classes (low vs. high)\n",
        "n_bins = 2\n",
        "y_bins = pd.qcut(df['price'], q=n_bins, labels=False)\n",
        "\n",
        "# 2. Compute each bin's \"representative\" price (mean of actual prices in that bin)\n",
        "bin_centers = df['price'].groupby(y_bins).mean().to_dict()\n",
        "\n",
        "# 3. Scale all features\n",
        "scaler = StandardScaler()\n",
        "X_scaled = scaler.fit_transform(X)\n",
        "\n",
        "# 4. LOOCV classification\n",
        "loo = LeaveOneOut()\n",
        "pred_bins = np.empty(len(y_bins), dtype=int)\n",
        "\n",
        "for train_idx, test_idx in loo.split(X_scaled):\n",
        "    clf = LogisticRegression(max_iter=1000)\n",
        "    clf.fit(X_scaled[train_idx], y_bins[train_idx])\n",
        "    pred_bins[test_idx] = clf.predict(X_scaled[test_idx])\n",
        "\n",
        "# 5. Map predicted bins back to continuous‐price estimates\n",
        "predicted_price = np.array([bin_centers[b] for b in pred_bins])\n",
        "\n",
        "# 6. Compute MAPE and RMSE comparing to the true y\n",
        "mape_log = mean_absolute_percentage_error(y, predicted_price) * 100  # %\n",
        "rmse_log = np.sqrt(mean_squared_error(y, predicted_price))\n",
        "\n",
        "print(f'Logistic Regression (binned) MAPE: {mape_log:.2f}%')\n",
        "print(f'Logistic Regression (binned) RMSE: {rmse_log:.2f}')"
      ],
      "metadata": {
        "colab": {
          "base_uri": "https://localhost:8080/"
        },
        "id": "XnGmsmb1am84",
        "outputId": "98d0a460-e3ab-44a7-f642-c352def41118"
      },
      "id": "XnGmsmb1am84",
      "execution_count": 14,
      "outputs": [
        {
          "output_type": "stream",
          "name": "stdout",
          "text": [
            "Logistic Regression (binned) MAPE: 24.23%\n",
            "Logistic Regression (binned) RMSE: 4318.06\n"
          ]
        }
      ]
    },
    {
      "cell_type": "markdown",
      "source": [
        "Switching to LogisticRegression (i.e. a classification‐style model on two price bins) makes performance markedly worse for predicting actual prices:\n",
        "\n",
        "* **MAPE jumps** from 11.4 % (linear) to 24.2 % (logistic)\n",
        "* **RMSE rises** from \\$1 653 to \\$4 318\n",
        "\n",
        "Because logistic regression treats price as discrete bins rather than a continuous variable, its predictions end up much coarser and less accurate. It simply isn't well suited for precise, continuous price estimation."
      ],
      "metadata": {
        "id": "yPdlZSuShaNU"
      },
      "id": "yPdlZSuShaNU"
    },
    {
      "cell_type": "markdown",
      "id": "8f3f9ffb",
      "metadata": {
        "id": "8f3f9ffb"
      },
      "source": [
        "A look at the regression variable:"
      ]
    },
    {
      "cell_type": "code",
      "execution_count": null,
      "id": "6e861f54",
      "metadata": {
        "id": "6e861f54",
        "outputId": "5d6ec98c-090d-4e8f-86c7-4abdfe979404"
      },
      "outputs": [
        {
          "data": {
            "text/plain": [
              "0      13495\n",
              "1      16500\n",
              "2      16500\n",
              "3      13950\n",
              "4      17450\n",
              "       ...  \n",
              "200    16845\n",
              "201    19045\n",
              "202    21485\n",
              "203    22470\n",
              "204    22625\n",
              "Name: price, Length: 205, dtype: object"
            ]
          },
          "execution_count": 313,
          "metadata": {},
          "output_type": "execute_result"
        }
      ],
      "source": [
        "df[\"price\"]"
      ]
    },
    {
      "cell_type": "markdown",
      "id": "34b27b7d",
      "metadata": {
        "id": "34b27b7d"
      },
      "source": [
        "## Text Classification"
      ]
    },
    {
      "cell_type": "markdown",
      "id": "5d57aeca",
      "metadata": {
        "id": "5d57aeca"
      },
      "source": [
        "### General idea\n",
        "\n",
        "Work through the Insults Detection notebook about text classification and\n",
        "insult detection. Focus on the use of `scikit_learn`, especially the\n",
        "`TfidfVectorizer`. For this assignment you will be turning in the Python notebook (extension `.ipynb`, **not** a `.py` file).  Turn in this notebook with all the code needed to run your classifier.  If it doesn't run, your score will suffer.\n",
        "\n",
        "Try two different classifiers on the movie review data, the one used in the textbook, an SVM called `LinearSVC`, and  the Bernoulli Naive Bayes model used above."
      ]
    },
    {
      "cell_type": "markdown",
      "id": "b7bdce15",
      "metadata": {
        "id": "b7bdce15"
      },
      "source": [
        "### Instructions and point values\n",
        "\n",
        "1.  Be sure to get the average of at runs  least 10 runs for **both** classifiers.  2 points\n",
        "2.  Be sure to get average accuracy, precision, and recall for both classifiers on those multiple runs. You will probably find `split_vectorize_and_fit` defined above useful, but you will need to modify it.  2 points.\n",
        "3.  Discuss which of the two classifiers does better.  Discuss which metric the best classifier does the worst at and speculate as to why (this will require reviewing the definitions of precision and recall and thinking about what they mean in a movie review setting). 3 points.\n",
        "4. Do a new training/test split on the data and train and test an SVM model.  Choose one false positive and one false negative from the test set.  Call these documents $j$ and $k$ and call their functional margins $c_j$ and $c_k$ (see the SVM notebook).  Find\n",
        "\n",
        "$$\n",
        "\\frac{c_{j}}{c_{max}-c_{min}}\n",
        "$$\n",
        "\n",
        "and\n",
        "\n",
        "$$\n",
        "\\frac{c_{k}}{c_{max}-c_{min}},\n",
        "$$\n",
        "\n",
        "where $c_{max}$ and $c_{min}$ are the maximum and minimum functional margins for the training set.  Are documents $j$ and $k$ misclassified with high confidence?  Of course getting credit for this part means submitting the code you used to compute these quantities.  For the computation of functional margins, it will be convenient to relabel positive and negative classes 1 and -1 respectively. 5 points"
      ]
    },
    {
      "cell_type": "markdown",
      "id": "8b6ce392",
      "metadata": {
        "id": "8b6ce392"
      },
      "source": [
        "#### Help with getting the movie reviews data.\n",
        "\n",
        "Execute the next two cells to get the movie review data."
      ]
    },
    {
      "cell_type": "code",
      "execution_count": 27,
      "id": "c02c3c73",
      "metadata": {
        "colab": {
          "base_uri": "https://localhost:8080/"
        },
        "id": "c02c3c73",
        "outputId": "49d3fb08-aaf3-4bd4-ad66-d1f86a6083e1"
      },
      "outputs": [
        {
          "output_type": "stream",
          "name": "stderr",
          "text": [
            "[nltk_data] Downloading package movie_reviews to /root/nltk_data...\n",
            "[nltk_data]   Package movie_reviews is already up-to-date!\n"
          ]
        },
        {
          "output_type": "execute_result",
          "data": {
            "text/plain": [
              "True"
            ]
          },
          "metadata": {},
          "execution_count": 27
        }
      ],
      "source": [
        "import nltk\n",
        "nltk.download('movie_reviews')"
      ]
    },
    {
      "cell_type": "code",
      "execution_count": 28,
      "id": "1add2710",
      "metadata": {
        "id": "1add2710"
      },
      "outputs": [],
      "source": [
        "from nltk.corpus import movie_reviews as mr\n",
        "\n",
        "def get_file_strings (corpus, file_ids):\n",
        "    return [corpus.raw(file_id) for file_id in file_ids]\n",
        "\n",
        "data = dict(pos = mr.fileids('pos'),\n",
        "            neg = mr.fileids('neg'))\n",
        "\n",
        "pos_file_ids = data['pos']\n",
        "neg_file_ids = data['neg']\n",
        "\n",
        "# Get all the positive and negative reviews.\n",
        "pos_file_reviews = get_file_strings (mr, pos_file_ids)\n",
        "neg_file_reviews = get_file_strings (mr, neg_file_ids)"
      ]
    },
    {
      "cell_type": "markdown",
      "id": "87f2701d",
      "metadata": {
        "id": "87f2701d"
      },
      "source": [
        "Each review is a string.  In principle, a list of strings like `pos_file_reviews`  can be passed to `text.TfidfVectorizer()` via the `fit_transform` method to train a vectorizer for machine learning.\n",
        "You could code that up.\n",
        "\n",
        "What you'd really like to do is use `split_vectorize_and_fit`, defined above, which does a lot of the work for you.\n",
        "\n",
        "But hold on. You have a coding problem. You don't have  a sequence of documents and labels.  Instead you have\n",
        "one sequence of positive documents  and another sequence of negative documents.  \n",
        "\n",
        "So you will need to turn those two sequences into a sequence of documents and a sequence of labels\n",
        "because that's what `split_vectorize_and_fit` wants.  You also want the doc sequence\n",
        "to contain a random mixture of positive and negative documents, because some machine\n",
        "learning algorithms are sensitive to the order in which training data is presented to\n",
        "them.\n",
        "\n",
        "The next cell does **not** do that for you.  But it illustrates an approach using\n",
        "two sets of English letters in place of two sets of English documents."
      ]
    },
    {
      "cell_type": "code",
      "execution_count": 29,
      "id": "28749c23",
      "metadata": {
        "colab": {
          "base_uri": "https://localhost:8080/"
        },
        "id": "28749c23",
        "outputId": "abb5694f-d4d3-4db4-c759-0d95148e78cd"
      },
      "outputs": [
        {
          "output_type": "stream",
          "name": "stdout",
          "text": [
            "abcdefghijklm\n",
            "nopqrstuvwxyz\n",
            "('p', 'h', 'i', 'y', 'q', 'w', 'z', 'r', 't', 'e', 'k', 'm', 'a', 'c', 'u', 'b', 'n', 'l', 'o', 'd', 's', 'x', 'v', 'f', 'j', 'g')\n",
            "('l', 'f', 'f', 'l', 'l', 'l', 'l', 'l', 'l', 'f', 'f', 'f', 'f', 'f', 'l', 'f', 'l', 'f', 'l', 'f', 'l', 'l', 'l', 'f', 'f', 'f')\n"
          ]
        }
      ],
      "source": [
        "# Lets work on letters instead of documents\n",
        "# There are 2 classes, letters from the first half of the\n",
        "# alphabet ('f') and letters frmm the last half ('l')\n",
        "\n",
        "from random import shuffle\n",
        "from string import ascii_lowercase\n",
        "\n",
        "#Class 1 of the letters: the f_lets\n",
        "f_lets = ascii_lowercase[:13]\n",
        "print(f_lets)\n",
        "#Class2 of the letters: the l_lets\n",
        "l_lets = ascii_lowercase[13:]\n",
        "print(l_lets)\n",
        "\n",
        "# Now get pairs of letters and labels\n",
        "f_pairs = [(let,'f') for let in f_lets]\n",
        "l_pairs = [(let,'l') for let in l_lets]\n",
        "\n",
        "###########  Shuffling  ###########################\n",
        "# Way too orderly, the classes arent mixed yet.\n",
        "data = f_pairs + l_pairs\n",
        "shuffle(data)\n",
        "###################  Now they're shuffled! ###############\n",
        "\n",
        "# Separate the letters from their labels\n",
        "lets, lbls = zip(*data)\n",
        "print(lets)\n",
        "print(lbls)"
      ]
    },
    {
      "cell_type": "code",
      "source": [
        "from sklearn.feature_extraction.text import TfidfVectorizer\n",
        "from sklearn.model_selection import train_test_split\n",
        "\n",
        "def split_vectorize_and_fit(docs, labels, clf, **params):\n",
        "    \"\"\"\n",
        "    Given labeled data (docs, labels) and a classifier constructor clf,\n",
        "    splits into train/test, vectorizes with TF-IDF, fits the classifier,\n",
        "    and returns (predictions, y_test).\n",
        "    \"\"\"\n",
        "    # 1. Train/test split\n",
        "    T_train, T_test, y_train, y_test = train_test_split(docs, labels)\n",
        "\n",
        "    # 2. TF-IDF vectorizer\n",
        "    tf = TfidfVectorizer(**params)\n",
        "    X_train = tf.fit_transform(T_train)\n",
        "\n",
        "    # 3. Instantiate and train classifier\n",
        "    clf_inst = clf()\n",
        "    clf_inst.fit(X_train, y_train)\n",
        "\n",
        "    # 4. Transform test set and predict\n",
        "    X_test = tf.transform(T_test)\n",
        "    preds = clf_inst.predict(X_test)\n",
        "\n",
        "    return preds, y_test"
      ],
      "metadata": {
        "id": "-O7ZhlZ6enHr"
      },
      "id": "-O7ZhlZ6enHr",
      "execution_count": 24,
      "outputs": []
    },
    {
      "cell_type": "code",
      "execution_count": 25,
      "id": "c7f7f741",
      "metadata": {
        "colab": {
          "base_uri": "https://localhost:8080/"
        },
        "id": "c7f7f741",
        "outputId": "c2f07e9e-7ee6-477a-9cec-31032f26097c"
      },
      "outputs": [
        {
          "output_type": "stream",
          "name": "stdout",
          "text": [
            "Classifier      | Accuracy  | Precision | Recall\n",
            "------------------------------------------------\n",
            "LinearSVC      |    0.845 |     0.839 |  0.854\n",
            "BernoulliNB    |    0.784 |     0.858 |  0.676\n"
          ]
        }
      ],
      "source": [
        "# ── Cell 1: Evaluate two classifiers over 10 runs ──\n",
        "\n",
        "from sklearn.metrics import accuracy_score, precision_score, recall_score\n",
        "from sklearn.svm import LinearSVC\n",
        "from sklearn.naive_bayes import BernoulliNB\n",
        "import numpy as np\n",
        "\n",
        "def evaluate_runs(docs, labels, clf_ctor, runs=10, **tfidf_params):\n",
        "    \"\"\"\n",
        "    Run split_vectorize_and_fit 'runs' times,\n",
        "    returning (mean_accuracy, mean_precision, mean_recall).\n",
        "    clf_ctor must be a zero‐arg callable returning a fresh classifier.\n",
        "    \"\"\"\n",
        "    accs, precs, recs = [], [], []\n",
        "    for _ in range(runs):\n",
        "        preds, y_test = split_vectorize_and_fit(docs, labels, clf_ctor, **tfidf_params)\n",
        "        accs.append(accuracy_score(y_test, preds))\n",
        "        precs.append(precision_score(y_test, preds))\n",
        "        recs.append(recall_score(y_test, preds))\n",
        "    return np.mean(accs), np.mean(precs), np.mean(recs)\n",
        "\n",
        "# assume 'docs' and 'labels' are your shuffled review texts and 0/1 labels\n",
        "results = {\n",
        "    'LinearSVC'  : evaluate_runs(docs, labels, lambda: LinearSVC(max_iter=5000), runs=10),\n",
        "    'BernoulliNB': evaluate_runs(docs, labels, BernoulliNB, runs=10)\n",
        "}\n",
        "\n",
        "print(\"Classifier      | Accuracy  | Precision | Recall\")\n",
        "print(\"------------------------------------------------\")\n",
        "for name, (acc, prec, rec) in results.items():\n",
        "    print(f\"{name:14} | {acc:8.3f} | {prec:9.3f} | {rec:6.3f}\")"
      ]
    },
    {
      "cell_type": "code",
      "source": [
        "# ── Cell 2: SVM margin analysis ──\n",
        "\n",
        "import numpy as np\n",
        "from sklearn.model_selection import train_test_split\n",
        "from sklearn.feature_extraction.text import TfidfVectorizer\n",
        "from sklearn.svm import LinearSVC\n",
        "\n",
        "# 1. New train/test split\n",
        "X_train_docs, X_test_docs, y_train, y_test = train_test_split(\n",
        "    docs, labels, test_size=0.2, stratify=labels, random_state=42\n",
        ")\n",
        "\n",
        "# 2. Relabel to {-1, +1} for margin computation\n",
        "y_train_signed = np.where(np.array(y_train)==1,  1, -1)\n",
        "y_test_signed  = np.where(np.array(y_test)==1,   1, -1)\n",
        "\n",
        "# 3. Vectorize\n",
        "vec = TfidfVectorizer()\n",
        "X_tr = vec.fit_transform(X_train_docs)\n",
        "X_te = vec.transform(X_test_docs)\n",
        "\n",
        "# 4. Train SVM\n",
        "svm = LinearSVC(max_iter=5000)\n",
        "svm.fit(X_tr, y_train_signed)\n",
        "\n",
        "# 5. Compute training‐set margins\n",
        "dec_tr = svm.decision_function(X_tr)\n",
        "c_max, c_min = dec_tr.max(), dec_tr.min()\n",
        "\n",
        "# 6. Compute test margins & signed predictions\n",
        "dec_te = svm.decision_function(X_te)\n",
        "pred_te_signed = np.sign(dec_te)\n",
        "\n",
        "# 7. Identify one false positive and one false negative\n",
        "fp_idx = np.where((pred_te_signed ==  1) & (y_test_signed == -1))[0][0]\n",
        "fn_idx = np.where((pred_te_signed == -1) & (y_test_signed ==  1))[0][0]\n",
        "\n",
        "c_j = dec_te[fp_idx]\n",
        "c_k = dec_te[fn_idx]\n",
        "\n",
        "ratio_j = c_j / (c_max - c_min)\n",
        "ratio_k = c_k / (c_max - c_min)\n",
        "\n",
        "print(f\"False positive ratio c_j/(c_max−c_min): {ratio_j:.3f}\")\n",
        "print(f\"False negative ratio c_k/(c_max−c_min): {ratio_k:.3f}\")"
      ],
      "metadata": {
        "colab": {
          "base_uri": "https://localhost:8080/"
        },
        "id": "SVN6Kfk-fZM7",
        "outputId": "82ba1fd9-ba1c-4d8c-a061-81a2eabca558"
      },
      "id": "SVN6Kfk-fZM7",
      "execution_count": 26,
      "outputs": [
        {
          "output_type": "stream",
          "name": "stdout",
          "text": [
            "False positive ratio c_j/(c_max−c_min): 0.098\n",
            "False negative ratio c_k/(c_max−c_min): -0.006\n"
          ]
        }
      ]
    },
    {
      "cell_type": "markdown",
      "source": [
        "* **Better classifier:** LinearSVC (84.5 % vs. 78.4 % accuracy).\n",
        "* **Worst metric for SVM:** Precision (83.9 %), because it sometimes flags negated or sarcastic language as positive.\n",
        "* **Margin ratios (\\~0.10 and –0.006):** Both errors lie almost on the decision boundary → low‐confidence misclassifications."
      ],
      "metadata": {
        "id": "-8WoDyBIgAlo"
      },
      "id": "-8WoDyBIgAlo"
    }
  ],
  "metadata": {
    "kernelspec": {
      "display_name": "Python 3 (ipykernel)",
      "language": "python",
      "name": "python3"
    },
    "language_info": {
      "codemirror_mode": {
        "name": "ipython",
        "version": 3
      },
      "file_extension": ".py",
      "mimetype": "text/x-python",
      "name": "python",
      "nbconvert_exporter": "python",
      "pygments_lexer": "ipython3",
      "version": "3.12.5"
    },
    "colab": {
      "provenance": []
    }
  },
  "nbformat": 4,
  "nbformat_minor": 5
}